{
 "cells": [
  {
   "cell_type": "markdown",
   "metadata": {},
   "source": [
    "# Description\n",
    "- As a team we have come to a consensus that we wnat to create a data analysis project, the reason for this is we all want to pursue computer science or data science and we all like to understand and get a better grasp of analysing data and measuring statistics through java as we are all taking AP Stats, and APCSA we want to combine the two ideas in order to create a project that will not only be something that will work toward the requirements but also be something we all enjoy so we are able to exceed expectation and become better programmers"
   ]
  },
  {
   "cell_type": "markdown",
   "metadata": {},
   "source": [
    "# Project Idea\n",
    "- As a team we have come to a consensus that we wnat to create a data analysis project, the reason for this is we all want to pursue computer science or data science and we all like to understand and get a better grasp of analysing data and measuring statistics through java as we are all taking AP Stats, and APCSA we want to combine the two ideas in order to create a project that will not only be something that will work toward the requirements but also be something we all enjoy so we are able to exceed expectation and become better programmers"
   ]
  },
  {
   "cell_type": "markdown",
   "metadata": {},
   "source": [
    "# Colaboration Plans\n",
    "    - Roles:\n",
    "     - Scrum Master: Krishiv \n",
    "     - DevOps: Parav\n",
    "     - Backend: Shaurya\n",
    "     - Frontend: Nikhil\n",
    "     "
   ]
  },
  {
   "cell_type": "markdown",
   "metadata": {},
   "source": [
    "## Orginizational Plans \n",
    "    -  Goals:\n",
    "    - Stay organized\n",
    "    - Clear Communication \n",
    "    - Stay on tasks\n",
    "\n",
    "\n",
    "- In our cancer data analysis project, our team will blend organization and creativity to enhance our research. We'll keep our data well-organized and readily available, making analysis and teamwork smoother. Moreover, we'll encourage creative thinking and innovation, allowing us to discover new insights in cancer data, thereby improving our research."
   ]
  },
  {
   "cell_type": "markdown",
   "metadata": {},
   "source": [
    " <img alt=\"Extensions\" src=\"{{site.baseurl}}/images/agile.png\" title=\"Agile 1 \" width=\"700\">"
   ]
  },
  {
   "cell_type": "markdown",
   "metadata": {},
   "source": [
    "\n",
    "\n",
    " <img alt=\"Extensions\" src=\"{{site.baseurl}}/images/breakdown.png\" title=\"Agile 2\" width=\"700\">"
   ]
  },
  {
   "cell_type": "markdown",
   "metadata": {},
   "source": [
    "# Frontend Plans\n",
    "- "
   ]
  },
  {
   "cell_type": "markdown",
   "metadata": {},
   "source": [
    "# Backend Plans\n",
    "- "
   ]
  },
  {
   "cell_type": "markdown",
   "metadata": {},
   "source": [
    "# DevOps Plans"
   ]
  },
  {
   "cell_type": "markdown",
   "metadata": {},
   "source": [
    "![DevOps (1)](https://github.com/Krishiv111/KPNSTeam/assets/111609656/467f172d-262f-426f-b093-60ede95ba574)"
   ]
  }
 ],
 "metadata": {
  "language_info": {
   "name": "python"
  },
  "orig_nbformat": 4
 },
 "nbformat": 4,
 "nbformat_minor": 2
}
