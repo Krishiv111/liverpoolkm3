{
 "cells": [
  {
   "cell_type": "markdown",
   "metadata": {},
   "source": [
    "---\n",
    "layout: notebook\n",
    "title: CB Review\n",
    "toc: true\n",
    "comments: true\n",
    "description: 1 min cb review\n",
    "courses: { csa: {week: 18} }\n",
    "type: hacks\n",
    "---"
   ]
  },
  {
   "cell_type": "markdown",
   "metadata": {},
   "source": [
    "# In this Question We Are Breaking Down the Code to show the column vs row major order for traverisng 2D arrays. "
   ]
  },
  {
   "cell_type": "markdown",
   "metadata": {},
   "source": [
    "<style>\n",
    ".centered-image {\n",
    "    display: block;\n",
    "    margin: 0 auto;\n",
    "    max-width: 50%; /* Optional: Adjust the maximum width as needed */\n",
    "}\n",
    "</style >\n",
    "<img src=\"{{site.baseurl}}/images/2015q22.png\" alt=\"Image\" class=\"centered-image\">\n"
   ]
  },
  {
   "cell_type": "markdown",
   "metadata": {},
   "source": [
    "# Question 22 Overview \n",
    "\n",
    "- Here the question is asking hwo we we would have to figure out a way to print hte 2d array in an order that produces the outputs if the array is traversed in a row column order \n",
    "- in the row major order the code needs to loop through each column of the current row, and then print the element in the current row and column."
   ]
  },
  {
   "cell_type": "markdown",
   "metadata": {},
   "source": [
    "# How to solve \n",
    "- You must understnad hte difference of the row vs column major order here we are being ased to evaluate in row major order printing 123456\n",
    "- First you have to know the nested loops \n",
    "- THis means that we go through each row of the 2d array and get the value sitting in each row as your output \n",
    "- Here is the code below"
   ]
  },
  {
   "cell_type": "code",
   "execution_count": 4,
   "metadata": {},
   "outputs": [
    {
     "name": "stdout",
     "output_type": "stream",
     "text": [
      "A B C \n",
      "D E F \n",
      "G H I \n"
     ]
    }
   ],
   "source": [
    "// ROW MAJOR ORDER!\n",
    "public class PrintArray {\n",
    "\n",
    "    \n",
    "    public static void printArray(String[][] grid) {\n",
    "        // Loop through each row of the 2D array\n",
    "        for (int row = 0; row < grid.length; row++) {\n",
    "            // Loop through each column of the current row\n",
    "            for (int col = 0; col < grid[0].length; col++) {\n",
    "                // Print the element at the current row and column, followed by a space\n",
    "                System.out.print(grid[row][col] + \" \");\n",
    "            }\n",
    "            // Move to the next line after printing each row, creating a new line\n",
    "            System.out.println();\n",
    "        }\n",
    "    }\n",
    "\n",
    "   \n",
    "    public static void main(String[] args) {\n",
    "        // Create a 2D array of Strings\n",
    "        String[][] myGrid = {\n",
    "            {\"A\", \"B\", \"C\"},\n",
    "            {\"D\", \"E\", \"F\"},\n",
    "            {\"G\", \"H\", \"I\"}\n",
    "        };\n",
    "\n",
    "        // Call the printArray method to print the elements of the 2D array\n",
    "        printArray(myGrid);\n",
    "    }\n",
    "}\n",
    "PrintArray.main(null)"
   ]
  },
  {
   "cell_type": "markdown",
   "metadata": {},
   "source": [
    "# The opposite approach done get confused here!\n",
    "- THis is what confuses many as its the oppostie this will print in the colum major order, to apporach questions like this oyu have to evalueate each column value and then move on into the next row \n",
    "- look at the code and documentation for an example"
   ]
  },
  {
   "cell_type": "code",
   "execution_count": 2,
   "metadata": {},
   "outputs": [
    {
     "name": "stdout",
     "output_type": "stream",
     "text": [
      "A D G \n",
      "B E H \n",
      "C F I \n"
     ]
    }
   ],
   "source": [
    "// COLUMN MAJOR ORDER\n",
    "public class PrintArray {\n",
    "    public static void printArray(String[][] grid) {\n",
    "        for (int col = 0; col < grid[0].length; col++) // outer loop for collums switched\n",
    "        { for (int row = 0; row < grid.length; row++) //notice the outer is switched with the inner loop for rows\n",
    "             {\n",
    "                System.out.print(grid[row][col] + \" \");\n",
    "            }\n",
    "            System.out.println(); \n",
    "        }\n",
    "    }\n",
    "\n",
    "    public static void main(String[] args) {\n",
    "        String[][] myGrid = {\n",
    "            {\"A\", \"B\", \"C\"},\n",
    "            {\"D\", \"E\", \"F\"},\n",
    "            {\"G\", \"H\", \"I\"}\n",
    "        };\n",
    "        printArray(myGrid);\n",
    "    }\n",
    "}\n",
    "PrintArray.main(null)"
   ]
  },
  {
   "cell_type": "markdown",
   "metadata": {},
   "source": [
    "# Hacks "
   ]
  },
  {
   "cell_type": "markdown",
   "metadata": {},
   "source": [
    "- Print one column based order and one row based order within this problem. "
   ]
  },
  {
   "cell_type": "code",
   "execution_count": null,
   "metadata": {},
   "outputs": [],
   "source": [
    "public static void printArrayOrder(int[][] array, boolean rowOrder) {\n",
    "    // Your code goes here\n",
    "}\n",
    "public static void main(String[] args) {\n",
    "    int[][] myArray = {\n",
    "        {1, 2, 3},\n",
    "        {4, 5, 6},\n",
    "        {7, 8, 9}\n",
    "    };\n",
    "\n",
    "   \n",
    "}\n",
    "\n"
   ]
  }
 ],
 "metadata": {
  "kernelspec": {
   "display_name": "Java",
   "language": "java",
   "name": "java"
  },
  "language_info": {
   "codemirror_mode": "java",
   "file_extension": ".jshell",
   "mimetype": "text/x-java-source",
   "name": "java",
   "pygments_lexer": "java",
   "version": "20.0.1"
  }
 },
 "nbformat": 4,
 "nbformat_minor": 2
}
