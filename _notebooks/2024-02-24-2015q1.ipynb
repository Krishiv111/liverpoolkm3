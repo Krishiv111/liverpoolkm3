{
 "cells": [
  {
   "cell_type": "markdown",
   "metadata": {},
   "source": [
    "---\n",
    "toc: true\n",
    "comments: true\n",
    "layout: post\n",
    "title: 2015 FRQ Question 1\n",
    "courses: { csa: {week: 20} }\n",
    "type: tangibles\n",
    "---"
   ]
  },
  {
   "cell_type": "markdown",
   "metadata": {},
   "source": [
    "# Instructions \n",
    "- (a) Write a static method arraySum that calculates and returns the sum of the entries in a specified one-dimensional array. The following example shows an array arr1 and the value returned by a call to arraySum.\n",
    "\n",
    "- (b) Write a static method rowSums that calculates the sums of each of the rows in a given two-dimensional array and returns these sums in a one-dimensional array. The method has one parameter, a two-dimensional array arr2D of int values. The array is in row-major order: arr2D [ r ] [ c ] is the entry at row r and column c. The method returns a one-dimensional array with one entry for each row of arr2D such that each entry is the sum of the corresponding row in arr2D. As a reminder, each row of a two-dimensional array is a one-dimensional array. For example, if mat1 is the array represented by the following table, the call rowSums(mat1) returns the array {16, 32, 28, 20}.\n",
    "\n",
    "- (c) A two-dimensional array is diverse if no two of its rows have entries that sum to the same value. In the following examples, the array mat1 is diverse because each row sum is different, but the array mat2 is not diverse because the first and last rows have the same sum.\n",
    "\n"
   ]
  },
  {
   "cell_type": "markdown",
   "metadata": {},
   "source": [
    "# Part A"
   ]
  },
  {
   "cell_type": "code",
   "execution_count": 14,
   "metadata": {},
   "outputs": [
    {
     "name": "stdout",
     "output_type": "stream",
     "text": [
      "Sum of arr1: 16\n"
     ]
    }
   ],
   "source": [
    "public class  DiverseArray {\n",
    "    public static int arraySum(int[] arr) {\n",
    "        int sum = 0;\n",
    "        for (int num : arr) {\n",
    "            sum += num;\n",
    "        }\n",
    "        return sum;\n",
    "    }\n",
    "\n",
    "    public static void main(String[] args) {\n",
    "        int[] arr1 = {1, 3, 2, 7, 3};\n",
    "        System.out.println(\"Sum of arr1: \" + arraySum(arr1));\n",
    "    }\n",
    "}\n",
    "DiverseArray.main(null);"
   ]
  },
  {
   "cell_type": "markdown",
   "metadata": {},
   "source": [
    "# Part B"
   ]
  },
  {
   "cell_type": "code",
   "execution_count": 13,
   "metadata": {},
   "outputs": [
    {
     "name": "stdout",
     "output_type": "stream",
     "text": [
      "Row sums: {16, 32, 28, 20}\n"
     ]
    }
   ],
   "source": [
    "public class DiverseArray {\n",
    "    public static int[] rowSums(int[][] arr2D) {\n",
    "        int[] sums = new int[arr2D.length]; // Create an array to store row sums\n",
    "\n",
    "        for (int i = 0; i < arr2D.length; i++) { // Iterate\n",
    "            int rowSum = 0;\n",
    "            for (int j = 0; j < arr2D[i].length; j++) { // Iterate through each column in the current row\n",
    "                rowSum += arr2D[i][j]; // Add current element to rowSum\n",
    "            }\n",
    "            sums[i] = rowSum; \n",
    "        }\n",
    "        return sums; // Return array of row sums\n",
    "    }\n",
    "\n",
    "    public static void main(String[] args) {\n",
    "        int[][] mat1 = {\n",
    "            {1, 3, 2, 7, 3},   \n",
    "            {10, 10, 4, 6, 2}, \n",
    "            {5, 3, 5, 9, 6},   \n",
    "            {7, 6, 4, 2, 1}   \n",
    "        };\n",
    "        int[] rowSumsArray = rowSums(mat1);\n",
    "        \n",
    "        // Print row sums\n",
    "        System.out.print(\"Row sums: {\");\n",
    "        for (int i = 0; i < rowSumsArray.length; i++) {\n",
    "            System.out.print(rowSumsArray[i]);\n",
    "            if (i < rowSumsArray.length - 1) {\n",
    "                System.out.print(\", \");\n",
    "            }\n",
    "        }\n",
    "        System.out.println(\"}\");\n",
    "    }\n",
    "}\n",
    "DiverseArray.main(null)"
   ]
  },
  {
   "cell_type": "markdown",
   "metadata": {},
   "source": [
    "# Part C"
   ]
  },
  {
   "cell_type": "code",
   "execution_count": 20,
   "metadata": {},
   "outputs": [
    {
     "name": "stdout",
     "output_type": "stream",
     "text": [
      "true\n",
      "false\n"
     ]
    }
   ],
   "source": [
    "import java.util.HashSet;\n",
    "\n",
    "public class DiverseArray {\n",
    "    \n",
    "    \n",
    "    public static int arraySum(int[] arr) {\n",
    "        int sum = 0;\n",
    "        for (int num : arr) {\n",
    "            sum += num;\n",
    "        }\n",
    "        return sum;\n",
    "    }\n",
    "\n",
    "   \n",
    "    public static int[] rowSums(int[][] arr2D) {\n",
    "        int[] sums = new int[arr2D.length];\n",
    "        for (int i = 0; i < arr2D.length; i++) {\n",
    "            sums[i] = arraySum(arr2D[i]);\n",
    "        }\n",
    "        return sums;\n",
    "    }\n",
    "\n",
    "    public static boolean isDiverse(int[][] arr2D) {\n",
    "        HashSet<Integer> sumsSet = new HashSet<>();\n",
    "        \n",
    "       \n",
    "        int[] sums = rowSums(arr2D);\n",
    "        for (int sum : sums) {\n",
    "            if (sumsSet.contains(sum)) {\n",
    "                return false; // If a duplicate check\n",
    "            }\n",
    "            sumsSet.add(sum);\n",
    "        }\n",
    "        \n",
    "        return true; // If all sums are unique, return true\n",
    "    }\n",
    "\n",
    "    public static void main(String[] args) {\n",
    "        \n",
    "        int[][] mat1 = {\n",
    "            {1, 3, 2, 7, 3},\n",
    "            {10, 10, 4, 6, 2},\n",
    "            {5, 3, 5, 9, 6},\n",
    "            {7, 6, 4, 2, 1}\n",
    "        };\n",
    "\n",
    "        int[][] mat2 = {\n",
    "            {1, 1, 5, 3, 4},\n",
    "            {12, 7, 6, 1, 9},\n",
    "            {8, 11, 10, 2, 5},\n",
    "            {3, 2, 3, 0, 6}\n",
    "        };\n",
    "\n",
    "        System.out.println(isDiverse(mat1)); \n",
    "        System.out.println(isDiverse(mat2)); \n",
    "    }\n",
    "}\n",
    "DiverseArray.main(null)"
   ]
  }
 ],
 "metadata": {
  "kernelspec": {
   "display_name": "Java",
   "language": "java",
   "name": "java"
  },
  "language_info": {
   "codemirror_mode": "java",
   "file_extension": ".jshell",
   "mimetype": "text/x-java-source",
   "name": "java",
   "pygments_lexer": "java",
   "version": "20.0.1"
  }
 },
 "nbformat": 4,
 "nbformat_minor": 2
}
