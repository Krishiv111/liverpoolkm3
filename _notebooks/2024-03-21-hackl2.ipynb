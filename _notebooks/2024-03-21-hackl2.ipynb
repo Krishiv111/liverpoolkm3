{
 "cells": [
  {
   "cell_type": "markdown",
   "metadata": {},
   "source": [
    "---\n",
    "toc: true\n",
    "layout: post\n",
    "title: FRQS FOR HACKS\n",
    "courses: { csa: {week: 25} }\n",
    "type: tangibles\n",
    "---"
   ]
  },
  {
   "cell_type": "markdown",
   "metadata": {},
   "source": [
    "- Question 2: Iteration over 2D arrays (Unit 4)\n",
    "\n",
    "- Situation: You are developing a game where you need to track player scores on a 2D grid representing levels and attempts.\n",
    "\n",
    "- (a) Explain the concept of iteration over a 2D array in Java. Provide an example scenario where iterating over a 2D array is useful in a programming task.\n",
    "\n",
    "- (b) Code:\n",
    "\n",
    "- You need to implement a method `calculateTotalScore` that takes a 2D array `scores` of integers representing player scores and returns the sum of all the elements in the array. Write the method signature and the method implementation. Include comments to explain your code.\n"
   ]
  },
  {
   "cell_type": "markdown",
   "metadata": {},
   "source": [
    "### 1A \n",
    "- The purpose of itteration through a 2d array can be useful in a game program, or data et which allows you to process each element within a 2d array. Therefore with itteration we acaan make comparisons and manipulate data."
   ]
  },
  {
   "cell_type": "code",
   "execution_count": null,
   "metadata": {},
   "outputs": [],
   "source": [
    "// 1B\n",
    "\n",
    "public class ScoreCalculator {\n",
    "\n",
    "    public int calculateTotalScore(int[][] scores) {\n",
    "        int totalScore = 0;\n",
    "\n",
    "        for (int[] row : scores) {\n",
    "            for (int score : row) {\n",
    "                totalScore += score;\n",
    "            }\n",
    "        }\n",
    "\n",
    "        return totalScore;\n",
    "    }\n",
    "\n",
    "    public static void main(String[] args) {\n",
    "        int[][] playerScores = {\n",
    "            {10, 20, 30},\n",
    "            {5, 15, 25},\n",
    "            {8, 16, 24}\n",
    "        };\n",
    "\n",
    "        ScoreCalculator calculator = new ScoreCalculator();\n",
    "        int totalScore = calculator.calculateTotalScore(playerScores);\n",
    "        System.out.println(\"Total score: \" + totalScore);\n",
    "    }\n",
    "}\n"
   ]
  },
  {
   "cell_type": "markdown",
   "metadata": {},
   "source": [
    "# FRQ 1\n",
    "\n",
    "a) person1 and person2 are both references to objects of the Person class.\n",
    "\n",
    "b) Yes, person1 and person3 point to the same value in memory because person3 is assigned the reference of person1 (person3 = person1).\n",
    "\n",
    "c) The integer \"number\" is stored on the stack because it's a primitive data type (int).\n",
    "\n",
    "d) The value that person1 points to (an instance of the Person class) is stored on the heap because objects in Java are allocated memory on the heap."
   ]
  },
  {
   "cell_type": "markdown",
   "metadata": {},
   "source": [
    " 1. Primitive types in Java are basic data types that are not objects and are stored directly in memory. Examples of primitive types include:\n",
    "int for integers double for floating-point numbers boolean for true/false values char for single characters\n",
    "2. Refernce types can be refered to as arrays and interfaces \n",
    "3. Primitive store in actual stack memory whole reference stroes in heap memory \n"
   ]
  },
  {
   "cell_type": "code",
   "execution_count": null,
   "metadata": {},
   "outputs": [],
   "source": [
    "public class Bank {\n",
    "    public double calculateInterest(double principalAmount, Customer customer) {\n",
    "        double interestRate = 0.08; // intrest rate is at 8 percent by resaerch\n",
    "        double interest = principalAmount * interestRate;\n",
    "        return interest;\n",
    "    }\n",
    "\n",
    "    public static void main(String[] args) {\n",
    "        Bank bank = new Bank();\n",
    "        Customer customer1 = new Customer(\"John Doe\", 12345);\n",
    "        double principalAmount = 1000.0;\n",
    "        double interest = bank.calculateInterest(principalAmount, customer1);\n",
    "        System.out.println(\"Interest: $\" + interest);\n",
    "    }\n",
    "}\n"
   ]
  }
 ],
 "metadata": {
  "kernelspec": {
   "display_name": "Java",
   "language": "java",
   "name": "java"
  },
  "language_info": {
   "codemirror_mode": "java",
   "file_extension": ".jshell",
   "mimetype": "text/x-java-source",
   "name": "java",
   "pygments_lexer": "java",
   "version": "20.0.1"
  }
 },
 "nbformat": 4,
 "nbformat_minor": 2
}
