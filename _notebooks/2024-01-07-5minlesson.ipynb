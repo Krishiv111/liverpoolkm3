{
 "cells": [
  {
   "cell_type": "markdown",
   "metadata": {},
   "source": [
    "---\n",
    "toc: true\n",
    "layout: post\n",
    "title: 5 min Lesson\n",
    "courses: { csa: {week: 12} }\n",
    "type: tangibles\n",
    "---"
   ]
  },
  {
   "cell_type": "markdown",
   "metadata": {},
   "source": [
    "# Question 22\n",
    "<style>\n",
    ".centered-image {\n",
    "    display: block;\n",
    "    margin: 0 auto;\n",
    "    max-width: 80%; \n",
    "}\n",
    "</style >\n",
    "<img src=\"{{site.baseurl}}/images/2015q22.png\" alt=\"Image\" class=\"centered-image\">"
   ]
  },
  {
   "cell_type": "markdown",
   "metadata": {},
   "source": [
    "# Question Breakdown\n",
    "- Here the question asks us which of its following code segments outputs the values 123456 which is clearly displays we want the algorithm that itterates horizontally in terms of a 2D array it is called row major order ."
   ]
  },
  {
   "cell_type": "markdown",
   "metadata": {},
   "source": [
    "<style>\n",
    ".centered-image {\n",
    "    display: block;\n",
    "    margin: 0 auto;\n",
    "    max-width: 80%; \n",
    "}\n",
    "</style >\n",
    "<img src=\"{{site.baseurl}}/images/2015q90.png\" alt=\"Image\" class=\"centered-image\">"
   ]
  },
  {
   "cell_type": "markdown",
   "metadata": {},
   "source": [
    "# Breaking Down The Answer Choices "
   ]
  },
  {
   "cell_type": "markdown",
   "metadata": {},
   "source": [
    "<style>\n",
    ".centered-image {\n",
    "    display: block;\n",
    "    margin: 0 auto;\n",
    "    max-width: 80%; \n",
    "}\n",
    "</style >\n",
    "<img src=\"{{site.baseurl}}/images/2015q91.png\" alt=\"Image\" class=\"centered-image\">"
   ]
  },
  {
   "cell_type": "markdown",
   "metadata": {},
   "source": [
    "## A."
   ]
  },
  {
   "cell_type": "code",
   "execution_count": null,
   "metadata": {
    "vscode": {
     "languageId": "java"
    }
   },
   "outputs": [],
   "source": [
    "for (int[] row : numbers) // here the code is being itterated through each row as we want it through using a for loop passing the first test\n",
    " {\n",
    "    for (int n : row) // using a nested for loop which is a loop inside a loop it iterantes  through each n value  so the numbers of the row\n",
    "    {\n",
    "        System.out.print(n); // then it prints those numbers.\n",
    "    }\n",
    "}\n"
   ]
  },
  {
   "cell_type": "code",
   "execution_count": 2,
   "metadata": {
    "vscode": {
     "languageId": "java"
    }
   },
   "outputs": [
    {
     "name": "stdout",
     "output_type": "stream",
     "text": [
      "1 2 3 4 5 6 "
     ]
    }
   ],
   "source": [
    "public class  ArrayExample {\n",
    "    public static void main(String[] args) {\n",
    "        int[][] numbers = {{1, 2, 3}, {4, 5, 6}};\n",
    "        \n",
    "        for (int[] row : numbers) {\n",
    "            for (int n : row) {\n",
    "                System.out.print(n + \" \");\n",
    "            }\n",
    "        }\n",
    "    }\n",
    "}\n",
    "\n",
    "ArrayExample.main(null)\n",
    "// THis is the correct option!!"
   ]
  },
  {
   "cell_type": "markdown",
   "metadata": {},
   "source": [
    "# B."
   ]
  },
  {
   "cell_type": "code",
   "execution_count": null,
   "metadata": {
    "vscode": {
     "languageId": "java"
    }
   },
   "outputs": [],
   "source": [
    "for (int[] row : numbers) {\n",
    "    // Line 1: \"for\" loop that iterates through each 'row' in the 'numbers' array or collection.\n",
    "\n",
    "    for (int n : row) {\n",
    "        // Line 3: Nested \"for\" loop that iterates through each 'n' in the 'row' array.\n",
    "\n",
    "        System.out.print(row[n]); // <-- Issue in this line\n",
    "        // Line 5: Prints the value at index 'n' in 'row'. This is incorrect.\n",
    "        // It should directly print the value of 'n' instead of using 'n' as an index.\n",
    "    }\n",
    "}"
   ]
  },
  {
   "cell_type": "markdown",
   "metadata": {},
   "source": [
    "# C."
   ]
  },
  {
   "cell_type": "code",
   "execution_count": null,
   "metadata": {
    "vscode": {
     "languageId": "java"
    }
   },
   "outputs": [],
   "source": [
    "for (int rc = 0; rc < numbers.length; rc++) {\n",
    "    // Line 1: \"for\" loop initializing 'rc' and iterating through the first dimension of the array this prints out the entire row not each inidivdual element.\n",
    "\n",
    "    System.out.print(numbers[rc]); // <-- Issue in this line\n",
    "    // Line 3: Attempts to print the element at 'rc' index of the 'numbers' array. \n",
    "    //  for a 2D array, this would print an entire row as it's only using a single index which is incorrect.\n",
    "}"
   ]
  },
  {
   "cell_type": "markdown",
   "metadata": {},
   "source": [
    "# D."
   ]
  },
  {
   "cell_type": "code",
   "execution_count": null,
   "metadata": {
    "vscode": {
     "languageId": "java"
    }
   },
   "outputs": [],
   "source": [
    "for (int r = 0; r < numbers[0].length; r++) {\n",
    "    // Line 1: \"for\" loop initializing 'r' and iterating through the rows of the 2D array.\n",
    "\n",
    "    for (int c = 0; c < numbers.length; c++) {\n",
    "        // Line 3: Nested \"for\" loop initializing 'c' and iterating through the columns of the 2D array.\n",
    "\n",
    "        System.out.print(numbers[r][c]);\n",
    "        // Line 5: Prints the element at position [r][c] of the 'numbers' 2D array.\n",
    "    }\n",
    "} \n"
   ]
  },
  {
   "cell_type": "markdown",
   "metadata": {},
   "source": [
    "# E.\n"
   ]
  },
  {
   "cell_type": "code",
   "execution_count": null,
   "metadata": {
    "vscode": {
     "languageId": "java"
    }
   },
   "outputs": [],
   "source": [
    "for (int r = 0; r < numbers.length; r++) {\n",
    "    // Line 1: \"for\" loop initializing 'r' and iterating through the rows of the 2D array 'numbers'.\n",
    "\n",
    "    for (int c = 0; c < numbers[0].length; c++) {\n",
    "        // Line 3: Nested \"for\" loop initializing 'c' and iterating through the columns of the 2D array.\n",
    "\n",
    "        System.out.print(numbers[r][c]);\n",
    "        // Line 5: Prints the element at position [r][c] of the 'numbers' 2D array.\n",
    "    }\n",
    "}\n"
   ]
  },
  {
   "cell_type": "markdown",
   "metadata": {},
   "source": [
    "# Reflection \n",
    "- Know that we have broken down different errors that can occur when writing code in row v column major order its time for you to try."
   ]
  },
  {
   "cell_type": "markdown",
   "metadata": {},
   "source": [
    "# 5 Min Hacks \n",
    "- Use this array to produce code that outputs row major order, and column major order"
   ]
  },
  {
   "cell_type": "code",
   "execution_count": null,
   "metadata": {
    "vscode": {
     "languageId": "java"
    }
   },
   "outputs": [],
   "source": [
    "int[][] numbers = {\n",
    "    {10, 20, 30},\n",
    "    {40, 50, 60},\n",
    "    {70, 80, 90}\n",
    "};\n"
   ]
  },
  {
   "cell_type": "markdown",
   "metadata": {},
   "source": [
    "# Row Major Order"
   ]
  },
  {
   "cell_type": "code",
   "execution_count": null,
   "metadata": {
    "vscode": {
     "languageId": "java"
    }
   },
   "outputs": [],
   "source": [
    "// Code here"
   ]
  },
  {
   "cell_type": "markdown",
   "metadata": {},
   "source": [
    "# Column Major Order"
   ]
  },
  {
   "cell_type": "code",
   "execution_count": null,
   "metadata": {
    "vscode": {
     "languageId": "java"
    }
   },
   "outputs": [],
   "source": [
    "// Code Here"
   ]
  }
 ],
 "metadata": {
  "kernelspec": {
   "display_name": "Java",
   "language": "java",
   "name": "java"
  },
  "language_info": {
   "codemirror_mode": "java",
   "file_extension": ".jshell",
   "mimetype": "text/x-java-source",
   "name": "Java",
   "pygments_lexer": "java",
   "version": "20.0.1"
  }
 },
 "nbformat": 4,
 "nbformat_minor": 2
}
