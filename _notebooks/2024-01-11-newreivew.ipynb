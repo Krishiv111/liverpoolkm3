{
 "cells": [
  {
   "cell_type": "markdown",
   "metadata": {},
   "source": [
    "---\n",
    "layout: notebook\n",
    "title: Individual Review\n",
    "toc: true\n",
    "comments: true\n",
    "description: review for the new year. \n",
    "courses: { csa: {week: 18} }\n",
    "type: hacks\n",
    "---"
   ]
  },
  {
   "cell_type": "markdown",
   "metadata": {},
   "source": [
    "- For individual reviews.   Be prepared to talk about the following...\n",
    "Blog showing your and  key assets and projects\n",
    "College Board prep and assets\n",
    "Blog timebox / Key Issues and other organization showing how you know where you have been and where you are going \n",
    "GitHub commits for first half of the year\n",
    "Something you are passionate about in the upcoming project\n",
    "Anything else you want to talk about"
   ]
  },
  {
   "cell_type": "markdown",
   "metadata": {},
   "source": [
    "# Reflection and Assets.\n",
    "\n",
    "- This year as a CSA student my goals are to improve my java skills and learn about different types of systems such as thymeleaf and jwt and create a project. As a group member and a student I want to make sure that we are utilizing the creativity weeks to have a set out plan for our project. Additionally I want to make sure that my skills are shown in a project that not only is a reflection of my passions but also showcases all the the content I have learned, this is because duirng trimester 1 I felt a lot the information that we learned on college board and java, was given to me but by doing projects and applications like the collegeboard mcq's, sorting projects, and passion projects i start to see what I learn and what information that I lack. Therefore I want to make sure that I am on top of the skills and appyling them to projects."
   ]
  },
  {
   "cell_type": "markdown",
   "metadata": {},
   "source": [
    "# Trimester 1 Project\n",
    "\n",
    "\n",
    "## Cancer Body Systems Projects \n",
    "- This project was the first project I did in java although the api doesent work as the aws backedn is taken doewn here is the link, where I have mainly worked on creating classes and working the the different CRUD operations to get familiar wiht the spring and the different java systems, here is how I learned and applied te basics such as classes conditionals, boolean expression and other topics here is the link to most of my backend work [here](https://github.com/Krishiv111/KPNSbackend)\n",
    "\n",
    "- Some shortcomings of this projects were the planning and parts of the ideation was lacking and some of the scrum boards were implemented later than it should have been which is somethign I am implementing. "
   ]
  },
  {
   "cell_type": "markdown",
   "metadata": {},
   "source": [
    "# Sorting Mini Proejct.\n",
    "- This prject is where I started to apply higher level java ideas like inheritence, arrays, to create a java program where  I mainly worked mainly on the inheritence and difference methods to work on the inheritence class, here I feel like a lot of my group collaborated better and I benfifted by learning and applying abou the different sorting methods. Additionally wihtin the forntend I worked on teh animations and the display of the data.\n",
    "\n",
    "- Hoever the shortcoming here is our data wasnt best for this case as its important that our data is lined up with the main objective .\n",
    "\n",
    "- Link to [bakcend] (https://github.com/divorced-coders/NewBooksBackend/graphs/contributors)\n",
    "- Link to [frotnend](https://github.com/divorced-coders/divorced_books_frontend/graphs/contributors) here"
   ]
  },
  {
   "cell_type": "markdown",
   "metadata": {},
   "source": [
    "# Collegeboard\n",
    "- [Review and Key Learning Folder](https://www.notion.so/APCSA-e55df440f2e14ef78b323d5bd789e2bc?pvs=4)\n",
    "- [College Board Reflction](https://krishiv111.github.io/liverpoolkm3//2023/12/29/CB_MCQ_2015_Reflection.html)\n",
    "- 5 min lesson"
   ]
  },
  {
   "cell_type": "markdown",
   "metadata": {},
   "source": [
    "# Passions and Goals For the rest of this year\n",
    "\n",
    "- This project I want to push myself and apply some deeper knowlege becuase usually my projects are what we learn in class and I directly apply that but know I want to take that toward a deeper level. This is becuase I want to learn and progress into becoming a better programmer. For this trimester my groups initial idea is about a rate my class and get review from different students however the only thing that could be the problem is that the data can be limited to our school so a reflection may be changing that to a district application and advertise it to others stuendts witin other schools.\n",
    "\n",
    "- If this project gets the correct approval from the school asb head it will keep me motivated longer than two tris and can shape into something that gets me excited to work on knowing that it impacts the ones around us."
   ]
  }
 ],
 "metadata": {
  "language_info": {
   "name": "python"
  }
 },
 "nbformat": 4,
 "nbformat_minor": 2
}
