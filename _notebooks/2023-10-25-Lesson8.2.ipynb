{
 "cells": [
  {
   "cell_type": "markdown",
   "metadata": {},
   "source": [
    "# 8.2 Traversing 2D Arrays!"
   ]
  },
  {
   "cell_type": "markdown",
   "metadata": {},
   "source": [
    "## Traversing\n",
    "- Traversing is known to acsess each element in a array also known as itteration, in the case of 2D Arrays we will acsess elements in the 2D array, but we will need to use specfiic methods of nested for loops, and enhanced for loops."
   ]
  },
  {
   "cell_type": "code",
   "execution_count": 5,
   "metadata": {
    "vscode": {
     "languageId": "java"
    }
   },
   "outputs": [
    {
     "name": "stdout",
     "output_type": "stream",
     "text": [
      "Element at index 0 is: 1\n",
      "Element at index 1 is: 2\n",
      "Element at index 2 is: 3\n",
      "Element at index 3 is: 4\n",
      "Element at index 4 is: 5\n"
     ]
    }
   ],
   "source": [
    "public class ArrayTraversalExample {\n",
    "    public static void main(String[] args) {\n",
    "        // Array that is created in order to be traversed/itterate through\n",
    "        int[] numbers = {1, 2, 3, 4, 5};\n",
    "\n",
    "        // Traverse the array and print each element\n",
    "        // How this works: 1. First it sets i to 0 in order to keep track of the index by using a for loop\n",
    "        // Then it checks if the number is greater index if so then it will continue\n",
    "        // uses i++ to continue to go through the indicies \n",
    "        // prints outs the number if greater than index\n",
    "        for (int i = 0; i < numbers.length; i++) {\n",
    "            System.out.println(\"Element at index \" + i + \" is: \" + numbers[i]);\n",
    "        }\n",
    "    }\n",
    "}\n",
    "ArrayTraversalExample.main(null)"
   ]
  },
  {
   "cell_type": "markdown",
   "metadata": {},
   "source": [
    "# Nested For Loop\n",
    "- A nested for loop is a type of loop that contains an inner loop and outer loop, allowing to create a two dimensional piece that will now allow us to traverse through 2D Arrays."
   ]
  },
  {
   "cell_type": "code",
   "execution_count": 8,
   "metadata": {
    "vscode": {
     "languageId": "java"
    }
   },
   "outputs": [
    {
     "name": "stdout",
     "output_type": "stream",
     "text": [
      "1 2 \n",
      "1 2 \n",
      "1 2 \n",
      "1 2 \n"
     ]
    }
   ],
   "source": [
    "public class NestedLoops {\n",
    "    public static void main(String[] args) {\n",
    "        for (int outer = 1; outer < 5; outer++) {\n",
    "            for (int inner = 1; inner < 3; inner++) {\n",
    "                System.out.print(inner + \" \");\n",
    "            }\n",
    "            System.out.println();\n",
    "        }\n",
    "    }\n",
    "}\n",
    "NestedLoops.main(null)"
   ]
  },
  {
   "cell_type": "markdown",
   "metadata": {},
   "source": [
    "# Enhanced For Loop"
   ]
  },
  {
   "cell_type": "code",
   "execution_count": 11,
   "metadata": {
    "vscode": {
     "languageId": "java"
    }
   },
   "outputs": [
    {
     "name": "stdout",
     "output_type": "stream",
     "text": [
      "Apple\n",
      "Banana\n",
      "Cherry\n",
      "Date\n",
      "Fig\n"
     ]
    }
   ],
   "source": [
    "public class EnhancedForLoopExample {\n",
    "    public static void main(String[] args) {\n",
    "        String[] fruits = {\"Apple\", \"Banana\", \"Cherry\", \"Date\", \"Fig\"};\n",
    "\n",
    "        // Here you use a en enhanced for loop to itterate through the array of strings\n",
    "        for (String fruit : fruits) {\n",
    "            System.out.println(fruit);\n",
    "        }\n",
    "    }\n",
    "}\n",
    "EnhancedForLoopExample.main(null)"
   ]
  },
  {
   "cell_type": "markdown",
   "metadata": {},
   "source": [
    "## Cumulative Knowledge  \n",
    "- Hint: Popcorn Hacks\n",
    "- From the class discussion fill these out\n",
    "\n",
    "- **What does traverse mean?**\n",
    "- **What is a nested loop**\n",
    "- **What is an enhanced for loop**"
   ]
  },
  {
   "cell_type": "markdown",
   "metadata": {},
   "source": [
    "# Nested Loops traversing through a 2D Array"
   ]
  },
  {
   "cell_type": "code",
   "execution_count": 18,
   "metadata": {
    "vscode": {
     "languageId": "java"
    }
   },
   "outputs": [
    {
     "name": "stdout",
     "output_type": "stream",
     "text": [
      "1 2 3 \n",
      "4 5 6 \n",
      "7 8 9 \n"
     ]
    }
   ],
   "source": [
    "public class TwoDArrayTraversal {\n",
    "    public static void main(String[] args) {\n",
    "        // First Create the 2D array\n",
    "        int[][] twoDArray = {\n",
    "            {1, 2, 3},\n",
    "            {4, 5, 6},\n",
    "            {7, 8, 9}\n",
    "        };\n",
    "        \n",
    "        // Using a Nested loops to traverse the 2D array\n",
    "        for (int row = 0; row < 3; row++) {\n",
    "            for (int col = 0; col < 3; col++) {\n",
    "                int element = twoDArray[row][col];\n",
    "                System.out.print(element + \" \");\n",
    "            }\n",
    "            System.out.println(); \n",
    "        }\n",
    "    }\n",
    "}\n",
    "TwoDArrayTraversal.main(null)"
   ]
  },
  {
   "cell_type": "markdown",
   "metadata": {},
   "source": [
    "### Popcorn Hack\n",
    "- What would you replace the question marks with if we didnt know the dimensions of this 2D Array"
   ]
  },
  {
   "cell_type": "code",
   "execution_count": null,
   "metadata": {
    "vscode": {
     "languageId": "java"
    }
   },
   "outputs": [],
   "source": [
    "public class TwoDArrayTraversal {\n",
    "    public static void main(String[] args) {\n",
    "        // First Create the 2D array\n",
    "        int[][] twoDArray = {\n",
    "            {1, 2, 3},\n",
    "            {4, 5, 6},\n",
    "            {7, 8, 9}\n",
    "        };\n",
    "        \n",
    "        // Using a Nested loops to traverse the 2D array\n",
    "        for (int row = 0; row < ???; row++) {\n",
    "            for (int col = 0; col < ???; col++) {\n",
    "                int element = twoDArray[row][col];\n",
    "                System.out.print(element + \" \");\n",
    "            }\n",
    "            System.out.println(); \n",
    "        }\n",
    "    }\n",
    "}\n",
    "TwoDArrayTraversal.main(null)"
   ]
  },
  {
   "cell_type": "markdown",
   "metadata": {},
   "source": [
    "### Practice\n",
    "- Create a 2D Array Based and Traverse through it using a nested loop based on this problem"
   ]
  },
  {
   "cell_type": "code",
   "execution_count": null,
   "metadata": {
    "vscode": {
     "languageId": "java"
    }
   },
   "outputs": [],
   "source": [
    "public class 2DPractice {\n",
    "    public static void main(String[] args) {\n",
    "        \n",
    "        int[][] complexIntArray = {\n",
    "            {1, 2, 3, 4},\n",
    "            {5, 6, 7, 8},\n",
    "            {9, 10, 11, 12}\n",
    "        };\n",
    "\n",
    "       // MISSING CODE HERE \n",
    "      }\n",
    "    }"
   ]
  },
  {
   "cell_type": "markdown",
   "metadata": {},
   "source": [
    "## Using Enhanced For- Loops to Traverse an Array"
   ]
  },
  {
   "cell_type": "code",
   "execution_count": 20,
   "metadata": {
    "vscode": {
     "languageId": "java"
    }
   },
   "outputs": [
    {
     "name": "stdout",
     "output_type": "stream",
     "text": [
      "1 2 3 \n",
      "4 5 6 \n",
      "7 8 9 \n"
     ]
    }
   ],
   "source": [
    "public class EnhancedForLoop2DArray {\n",
    "    public static void main(String[] args) {\n",
    "        // Define and initialize a 2D array\n",
    "        int[][] twoDArray = {\n",
    "            {1, 2, 3},\n",
    "            {4, 5, 6},\n",
    "            {7, 8, 9}\n",
    "        };\n",
    "\n",
    "        // Use nested enhanced for loops to traverse the 2D array\n",
    "        for (int[] row : twoDArray) {\n",
    "            for (int element : row) {\n",
    "                System.out.print(element + \" \");\n",
    "            }\n",
    "            System.out.println(); // Move to the next row\n",
    "        }\n",
    "    }\n",
    "}\n",
    "EnhancedForLoop2DArray.main(null)"
   ]
  },
  {
   "cell_type": "markdown",
   "metadata": {},
   "source": [
    "# Row Major Order Vs Column Major Order \n",
    "\n",
    "- PopCorn Hacks \n",
    "\n",
    "- **Whats the difference between row major order and column major order**"
   ]
  },
  {
   "cell_type": "code",
   "execution_count": 25,
   "metadata": {
    "vscode": {
     "languageId": "java"
    }
   },
   "outputs": [
    {
     "ename": "CompilationException",
     "evalue": "",
     "output_type": "error",
     "traceback": [
      "\u001b[1m\u001b[30m|   \u001b[1m\u001b[30m\u001b[0m\u001b[1m\u001b[30m\u001b[41mRowOrder.main\u001b[0m\u001b[1m\u001b[30m(null)\u001b[0m",
      "\u001b[1m\u001b[31mcannot find symbol\u001b[0m",
      "\u001b[1m\u001b[31m  symbol:   method main(<nulltype>)\u001b[0m",
      ""
     ]
    }
   ],
   "source": [
    "\n",
    "public class RowOrder{\n",
    "\n",
    "public static void printArray(String [][] grid)\n",
    "{\n",
    "    for (int row = 0; row < grid.length; row++)\n",
    "    {\n",
    "    for (int col = 0; col < grid[0].length; col++) \n",
    "    { \n",
    "        System.out.print(grid[row][col]);\n",
    "    }\n",
    "    System.out.println();\n",
    "    }\n",
    "}\n",
    "}\n",
    "RowOrder.main(null)\n"
   ]
  },
  {
   "cell_type": "code",
   "execution_count": 28,
   "metadata": {
    "vscode": {
     "languageId": "java"
    }
   },
   "outputs": [
    {
     "ename": "CompilationException",
     "evalue": "",
     "output_type": "error",
     "traceback": [
      "\u001b[1m\u001b[30m|   \u001b[1m\u001b[30m\u001b[0m\u001b[1m\u001b[30m\u001b[41mMain.main\u001b[0m\u001b[1m\u001b[30m(null)\u001b[0m",
      "\u001b[1m\u001b[31mcannot find symbol\u001b[0m",
      "\u001b[1m\u001b[31m  symbol:   method main(<nulltype>)\u001b[0m",
      ""
     ]
    }
   ],
   "source": [
    "public class Main{\n",
    "    public static void printArray(String[][] grid) {\n",
    "        for (int row = 0; row < grid.length; row++) {\n",
    "            for (int col = 0; col < grid[0].length; col++) {\n",
    "                System.out.print(grid[row][col] + \" \"); // Print each element with a space\n",
    "            }\n",
    "            System.out.println(); // Move to the next row\n",
    "        }\n",
    "    }\n",
    "\n",
    "    \n",
    "}\n",
    "Main.main(null)"
   ]
  }
 ],
 "metadata": {
  "kernelspec": {
   "display_name": "Java",
   "language": "java",
   "name": "java"
  },
  "language_info": {
   "codemirror_mode": "java",
   "file_extension": ".jshell",
   "mimetype": "text/x-java-source",
   "name": "Java",
   "pygments_lexer": "java",
   "version": "20.0.1"
  }
 },
 "nbformat": 4,
 "nbformat_minor": 2
}
