{
 "cells": [
  {
   "cell_type": "markdown",
   "metadata": {},
   "source": [
    "---\n",
    "layout: notebook\n",
    "title: Deployment Test\n",
    "toc: true\n",
    "comments: true\n",
    "description: test\n",
    "courses: { csa: {week: 19} }\n",
    "type: hacks\n",
    "---"
   ]
  },
  {
   "cell_type": "markdown",
   "metadata": {},
   "source": [
    "# A pojo Class Example\n",
    "- public class\n",
    "- private fields\n",
    "- default constructors\n",
    "- no extends - static class"
   ]
  },
  {
   "cell_type": "code",
   "execution_count": null,
   "metadata": {
    "vscode": {
     "languageId": "java"
    }
   },
   "outputs": [],
   "source": [
    "public class SoccerTeam {\n",
    "    private String teamName;\n",
    "    private String coach;\n",
    "    private int foundedYear;\n",
    "\n",
    "    // Constructors\n",
    "    public SoccerTeam() {\n",
    "    }\n",
    "\n",
    "    public SoccerTeam(String teamName, String coach, int foundedYear) {\n",
    "        this.teamName = teamName;\n",
    "        this.coach = coach;\n",
    "        this.foundedYear = foundedYear;\n",
    "    }\n",
    "\n",
    "    // Getter and Setter methods\n",
    "    public String getTeamName() {\n",
    "        return teamName;\n",
    "    }\n",
    "\n",
    "    public void setTeamName(String teamName) {\n",
    "        this.teamName = teamName;\n",
    "    }\n",
    "\n",
    "    public String getCoach() {\n",
    "        return coach;\n",
    "    }\n",
    "\n",
    "    public void setCoach(String coach) {\n",
    "        this.coach = coach;\n",
    "    }\n",
    "\n",
    "    public int getFoundedYear() {\n",
    "        return foundedYear;\n",
    "    }\n",
    "\n",
    "    public void setFoundedYear(int foundedYear) {\n",
    "        this.foundedYear = foundedYear;\n",
    "    }\n",
    "\n",
    "}\n"
   ]
  },
  {
   "cell_type": "markdown",
   "metadata": {},
   "source": [
    "# Examples of an Nginx File\n",
    "- ngnix file that displays a server_name and proxy pass\n",
    "- here the file goes through nginx to make a request from the forntend and make sure it acsess then it goes to the backend and peforms a reverse proxy backend into the frontend where it takes the requesst and checks it for security and authorization and the errors handels and sends it back to the user. s oit goes from the server side to the client side ."
   ]
  },
  {
   "cell_type": "code",
   "execution_count": null,
   "metadata": {
    "vscode": {
     "languageId": "bat"
    }
   },
   "outputs": [],
   "source": [
    "server {\n",
    "   listen 80;\n",
    "    listen [::]:80;\n",
    "    server_name -----.stu.nighthawkcodingsociety.com ; # CHANGE SERVER NAME TO YOUR REGISTERED DOMAIN\n",
    "    location / {\n",
    "        proxy_pass http://localhost:8---; # CHANGE PORT TO YOUR UNIQUE PORT\n",
    "        # Simple requests\n",
    "        if ($request_method ~* \"(GET|POST|PUT|DELETE)\") { # Customize Request methods based on your needs\n",
    "                add_header \"Access-Control-Allow-Origin\" \"http://example.com\";\n",
    "        }\n",
    "        # Preflighted requests\n",
    "        if ($request_method = OPTIONS ) {\n",
    "                add_header \"Access-Control-Allow-Origin\"  *;\n",
    "                add_header \"Access-Control-Allow-Methods\" \"GET, POST, PUT, DELETE, OPTIONS, HEAD\"; # Make sure the request methods above match here\n",
    "                add_header \"Access-Control-Allow-Headers\" \"Authorization, Origin, X-Requested-With, Content-Type, Accept\";\n",
    "                return 200;\n",
    "        }\n",
    "    }\n",
    "} "
   ]
  },
  {
   "cell_type": "markdown",
   "metadata": {},
   "source": [
    "- what is it? \n",
    "nginx reverse proxy is a way that the backend recives request from the forntend through the nignx file it allows for the correct acsess and mehods which allows for post put get and delete. In addition it allows for authentication \n",
    " -  the server name is set within the nginx file where it allows for request such as post and put which corresponds with the reverse proxy_pass a reverse proxy which manages all teh request coming from the server_name"
   ]
  }
 ],
 "metadata": {
  "language_info": {
   "name": "python"
  }
 },
 "nbformat": 4,
 "nbformat_minor": 2
}
