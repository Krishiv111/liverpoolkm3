{
 "cells": [
  {
   "cell_type": "markdown",
   "metadata": {},
   "source": [
    "---\n",
    "toc: true\n",
    "comments: true\n",
    "layout: post\n",
    "title: 2015 FRQ Question 4\n",
    "courses: { csa: {week: 20} }\n",
    "type: tangibles\n",
    "---"
   ]
  },
  {
   "cell_type": "markdown",
   "metadata": {},
   "source": [
    "# Part A "
   ]
  },
  {
   "cell_type": "code",
   "execution_count": 5,
   "metadata": {
    "vscode": {
     "languageId": "java"
    }
   },
   "outputs": [
    {
     "name": "stdout",
     "output_type": "stream",
     "text": [
      "group1.contains(-5): true\n",
      "group1.contains(2): false\n",
      "Numbers in the group:\n",
      "3\n",
      "-5\n"
     ]
    }
   ],
   "source": [
    "import java.util.HashSet;\n",
    "import java.util.Set;\n",
    "// initial methods with a signle value. \n",
    "public class CustomNumberGroup implements NumberGroup {\n",
    "    private Set<Integer> numbers;\n",
    "\n",
    "   \n",
    "    public CustomNumberGroup() {\n",
    "        this.numbers = new HashSet<>();\n",
    "    }\n",
    "\n",
    "   \n",
    "    public void addNumber(int number) {\n",
    "        numbers.add(number);\n",
    "    }\n",
    "\n",
    "    @Override\n",
    "    public boolean contains(int number) {\n",
    "        return numbers.contains(number);\n",
    "    }\n",
    "\n",
    "\n",
    "    public void printNumbers() {\n",
    "        System.out.println(\"Numbers in the group:\");\n",
    "        for (int num : numbers) {\n",
    "            System.out.println(num);\n",
    "        }\n",
    "    }\n",
    "\n",
    "    public static void main(String[] args) {\n",
    "       \n",
    "        CustomNumberGroup group1 = new CustomNumberGroup();\n",
    "\n",
    "       \n",
    "        group1.addNumber(-5);\n",
    "        group1.addNumber(3);\n",
    "\n",
    "        // Testing contains method\n",
    "        System.out.println(\"group1.contains(-5): \" + group1.contains(-5)); \n",
    "        System.out.println(\"group1.contains(2): \" + group1.contains(2));   \n",
    "\n",
    "   \n",
    "        group1.printNumbers();\n",
    "    }\n",
    "}\n",
    "CustomNumberGroup.main(null)"
   ]
  },
  {
   "cell_type": "markdown",
   "metadata": {},
   "source": [
    "# Part B"
   ]
  },
  {
   "cell_type": "code",
   "execution_count": 9,
   "metadata": {
    "vscode": {
     "languageId": "java"
    }
   },
   "outputs": [
    {
     "name": "stdout",
     "output_type": "stream",
     "text": [
      "range1.contains(-5): false\n",
      "range1.contains(3): false\n",
      "range1.contains(5): false\n"
     ]
    }
   ],
   "source": [
    "public class Range implements NumberGroup {\n",
    "    private int min;\n",
    "    private int max;\n",
    "\n",
    "    // Constructor\n",
    "    public Range(int min, int max) {\n",
    "        this.min = min;\n",
    "        this.max = max;\n",
    "    }\n",
    "\n",
    "    // Method to check if a number is within the range\n",
    "    @Override\n",
    "    public boolean contains(int number) {\n",
    "        return number >= min && number <= max;\n",
    "    }\n",
    "\n",
    "    public static void main(String[] args) {\n",
    "\n",
    "        // Creating a range from -3 to 2\n",
    "        Range range1 = new Range(-3, 2);\n",
    "\n",
    "        // Testing contains method\n",
    "        System.out.println(\"range1.contains(-5): \" + range1.contains(-5)); // Should return true\n",
    "        System.out.println(\"range1.contains(3): \" + range1.contains(3));   // Should return true\n",
    "        System.out.println(\"range1.contains(5): \" + range1.contains(5));   // Should return false\n",
    "    }\n",
    "}\n",
    "Range.main(null)"
   ]
  },
  {
   "cell_type": "markdown",
   "metadata": {},
   "source": [
    "# Part C"
   ]
  },
  {
   "cell_type": "code",
   "execution_count": 10,
   "metadata": {
    "vscode": {
     "languageId": "java"
    }
   },
   "outputs": [
    {
     "name": "stdout",
     "output_type": "stream",
     "text": [
      "multiple1.contains(2): true\n",
      "multiple1.contains(9): false\n",
      "multiple1.contains(6): true\n"
     ]
    }
   ],
   "source": [
    "import java.util.List;\n",
    "\n",
    "public class MultipleGroups implements NumberGroup {\n",
    "    private List<NumberGroup> groupList;\n",
    "\n",
    "    // Constructor\n",
    "    public MultipleGroups(List<NumberGroup> groupList) {\n",
    "        this.groupList = groupList;\n",
    "    }\n",
    "\n",
    "   \n",
    "    @Override\n",
    "    public boolean contains(int num) {\n",
    "        for (NumberGroup group : groupList) {\n",
    "            if (group.contains(num)) {\n",
    "                return true;\n",
    "            }\n",
    "        }\n",
    "        return false;\n",
    "    }\n",
    "\n",
    "    public static void main(String[] args) {\n",
    "      \n",
    "        List<NumberGroup> groups = List.of(new Range(5, 8), new Range(10, 12), new Range(1, 6));\n",
    "\n",
    "        \n",
    "        MultipleGroups multiple1 = new MultipleGroups(groups);\n",
    "\n",
    "        // Testing contains method\n",
    "        System.out.println(\"multiple1.contains(2): \" + multiple1.contains(2)); // Should return true\n",
    "        System.out.println(\"multiple1.contains(9): \" + multiple1.contains(9)); // Should return false\n",
    "        System.out.println(\"multiple1.contains(6): \" + multiple1.contains(6)); // Should return true\n",
    "    }\n",
    "}\n",
    "MultipleGroups.main(null)"
   ]
  }
 ],
 "metadata": {
  "kernelspec": {
   "display_name": "Java",
   "language": "java",
   "name": "java"
  },
  "language_info": {
   "codemirror_mode": "java",
   "file_extension": ".jshell",
   "mimetype": "text/x-java-source",
   "name": "Java",
   "pygments_lexer": "java",
   "version": "20.0.1"
  }
 },
 "nbformat": 4,
 "nbformat_minor": 2
}
