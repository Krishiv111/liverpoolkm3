{
 "cells": [
  {
   "cell_type": "markdown",
   "metadata": {},
   "source": [
    "---\n",
    "toc: true\n",
    "comments: true\n",
    "layout: post\n",
    "title: 2015 FRQ Question 4\n",
    "courses: { csa: {week: 20} }\n",
    "type: tangibles\n",
    "---"
   ]
  },
  {
   "cell_type": "markdown",
   "metadata": {},
   "source": [
    "### Instructions:\n",
    "\n",
    "#### (a) NumberGroup Interface:\n",
    "\n",
    "Write an interface named NumberGroup that represents a group of integers. The interface should have a single contains method that determines if a given integer is in the group. For example, if group1 is of type NumberGroup, and it contains only the two numbers -5 and 3, then group1.contains(-5) would return true, and group1.contains(2) would return false. Write the complete NumberGroup interface. It must have exactly one method.\n",
    "\n",
    "#### (b) Range Class:\n",
    "\n",
    "Write the complete Range class. Include all necessary instance variables and methods as well as a constructor that takes two int parameters. The first parameter represents the minimum value, and the second parameter represents the maximum value of the range. You may assume that the minimum is less than or equal to the maximum.\n",
    "\n",
    "#### (c) MultipleGroups Class:\n",
    "\n",
    "The MultipleGroups class (not shown) represents a collection of NumberGroup objects and isa NumberGroup. The MultipleGroups class stores the number groups in the instance variable groupList (shown below), which is initialized in the constructor.\n",
    "\n",
    "\n",
    "Write the MultipleGroups method contains. The method takes an integer and returns true if and only if the integer is contained in one or more of the number groups in groupList.\n",
    "\n",
    "For example, suppose multiple1 has been declared as an instance of MultipleGroups and consists of the three ranges created by the calls new Range(5, 8), new Range(10, 12), and new Range(1, 6). The following table shows the results of several calls to contains:\n",
    "\n",
    "| Call | Result |\n",
    "|------|--------|\n",
    "| multiple1.contains(2) | true |\n",
    "| multiple1.contains(9) | false |\n",
    "| multiple1.contains(6) | true |\n",
    "\n"
   ]
  },
  {
   "cell_type": "markdown",
   "metadata": {},
   "source": [
    "# Reflection \n",
    "- For me this was the hardest FRQ, as it tested the advanced parts of java by testing the idea of polymorphism between the classses which truly made it hard for me having to make me spend time a lot and look at lessons and watch videos to completly understand. "
   ]
  },
  {
   "cell_type": "markdown",
   "metadata": {},
   "source": [
    "# Part A "
   ]
  },
  {
   "cell_type": "code",
   "execution_count": 5,
   "metadata": {},
   "outputs": [
    {
     "name": "stdout",
     "output_type": "stream",
     "text": [
      "group1.contains(-5): true\n",
      "group1.contains(2): false\n",
      "Numbers in the group:\n",
      "3\n",
      "-5\n"
     ]
    }
   ],
   "source": [
    "import java.util.HashSet;\n",
    "import java.util.Set;\n",
    "// initial methods with a signle value. \n",
    "public class CustomNumberGroup implements NumberGroup {\n",
    "    private Set<Integer> numbers;\n",
    "\n",
    "   \n",
    "    public CustomNumberGroup() {\n",
    "        this.numbers = new HashSet<>();\n",
    "    }\n",
    "\n",
    "   \n",
    "    public void addNumber(int number) {\n",
    "        numbers.add(number);\n",
    "    }\n",
    "\n",
    "    @Override\n",
    "    public boolean contains(int number) {\n",
    "        return numbers.contains(number);\n",
    "    }\n",
    "\n",
    "\n",
    "    public void printNumbers() {\n",
    "        System.out.println(\"Numbers in the group:\");\n",
    "        for (int num : numbers) {\n",
    "            System.out.println(num);\n",
    "        }\n",
    "    }\n",
    "\n",
    "    public static void main(String[] args) {\n",
    "       \n",
    "        CustomNumberGroup group1 = new CustomNumberGroup();\n",
    "\n",
    "       \n",
    "        group1.addNumber(-5);\n",
    "        group1.addNumber(3);\n",
    "\n",
    "        // Testing contains method\n",
    "        System.out.println(\"group1.contains(-5): \" + group1.contains(-5)); \n",
    "        System.out.println(\"group1.contains(2): \" + group1.contains(2));   \n",
    "\n",
    "   \n",
    "        group1.printNumbers();\n",
    "    }\n",
    "}\n",
    "CustomNumberGroup.main(null)"
   ]
  },
  {
   "cell_type": "markdown",
   "metadata": {},
   "source": [
    "# Part B"
   ]
  },
  {
   "cell_type": "code",
   "execution_count": 9,
   "metadata": {},
   "outputs": [
    {
     "name": "stdout",
     "output_type": "stream",
     "text": [
      "range1.contains(-5): false\n",
      "range1.contains(3): false\n",
      "range1.contains(5): false\n"
     ]
    }
   ],
   "source": [
    "public class Range implements NumberGroup {\n",
    "    private int min;\n",
    "    private int max;\n",
    "\n",
    "    // Constructor\n",
    "    public Range(int min, int max) {\n",
    "        this.min = min;\n",
    "        this.max = max;\n",
    "    }\n",
    "\n",
    "    // Method to check if a number is within the range\n",
    "    @Override\n",
    "    public boolean contains(int number) {\n",
    "        return number >= min && number <= max;\n",
    "    }\n",
    "\n",
    "    public static void main(String[] args) {\n",
    "\n",
    "        // Creating a range from -3 to 2\n",
    "        Range range1 = new Range(-3, 2);\n",
    "\n",
    "        // Testing contains method\n",
    "        System.out.println(\"range1.contains(-5): \" + range1.contains(-5)); // Should return true\n",
    "        System.out.println(\"range1.contains(3): \" + range1.contains(3));   // Should return true\n",
    "        System.out.println(\"range1.contains(5): \" + range1.contains(5));   // Should return false\n",
    "    }\n",
    "}\n",
    "Range.main(null)"
   ]
  },
  {
   "cell_type": "markdown",
   "metadata": {},
   "source": [
    "# Part C"
   ]
  },
  {
   "cell_type": "code",
   "execution_count": 10,
   "metadata": {},
   "outputs": [
    {
     "name": "stdout",
     "output_type": "stream",
     "text": [
      "multiple1.contains(2): true\n",
      "multiple1.contains(9): false\n",
      "multiple1.contains(6): true\n"
     ]
    }
   ],
   "source": [
    "import java.util.List;\n",
    "\n",
    "public class MultipleGroups implements NumberGroup {\n",
    "    private List<NumberGroup> groupList;\n",
    "\n",
    "    // Constructor\n",
    "    public MultipleGroups(List<NumberGroup> groupList) {\n",
    "        this.groupList = groupList;\n",
    "    }\n",
    "\n",
    "   \n",
    "    @Override\n",
    "    public boolean contains(int num) {\n",
    "        for (NumberGroup group : groupList) {\n",
    "            if (group.contains(num)) {\n",
    "                return true;\n",
    "            }\n",
    "        }\n",
    "        return false;\n",
    "    }\n",
    "\n",
    "    public static void main(String[] args) {\n",
    "      \n",
    "        List<NumberGroup> groups = List.of(new Range(5, 8), new Range(10, 12), new Range(1, 6));\n",
    "\n",
    "        \n",
    "        MultipleGroups multiple1 = new MultipleGroups(groups);\n",
    "\n",
    "        \n",
    "        System.out.println(\"multiple1.contains(2): \" + multiple1.contains(2)); // Should return true\n",
    "        System.out.println(\"multiple1.contains(9): \" + multiple1.contains(9)); // Should return false\n",
    "        System.out.println(\"multiple1.contains(6): \" + multiple1.contains(6)); // Should return true\n",
    "    }\n",
    "}\n",
    "MultipleGroups.main(null)"
   ]
  },
  {
   "cell_type": "markdown",
   "metadata": {},
   "source": [
    "# Interfaces \n",
    "- Interfaces in Java define a set of method signatures that classes must implement, serving as a contract for behavior.\n",
    "- They facilitate loose coupling by allowing classes to interact through common interfaces rather than specific implementations.\n",
    "- Java interfaces can include constants, which are implicitly `public`, `static`, and `final`."
   ]
  }
 ],
 "metadata": {
  "kernelspec": {
   "display_name": "Java",
   "language": "java",
   "name": "java"
  },
  "language_info": {
   "codemirror_mode": "java",
   "file_extension": ".jshell",
   "mimetype": "text/x-java-source",
   "name": "java",
   "pygments_lexer": "java",
   "version": "20.0.1"
  }
 },
 "nbformat": 4,
 "nbformat_minor": 2
}
