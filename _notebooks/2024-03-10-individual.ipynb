{
 "cells": [
  {
   "cell_type": "markdown",
   "metadata": {},
   "source": [
    "---\n",
    "toc: true\n",
    "comments: true\n",
    "layout: post\n",
    "title: Individual Seed.\n",
    "courses: { csa: {week: 25} }\n",
    "type: tangibles\n",
    "---"
   ]
  },
  {
   "cell_type": "markdown",
   "metadata": {},
   "source": [
    "# Individual Seed"
   ]
  },
  {
   "cell_type": "markdown",
   "metadata": {},
   "source": [
    "# Indivdual Seed \n",
    "\n",
    "- Grade From Last Trimester; (94.6)>93\n",
    "\n",
    "<html>\n",
    "<style>\n",
    ".centered-image {\n",
    "    display: block;\n",
    "    margin: 0 auto;\n",
    "    max-width: 50%; \n",
    "}\n",
    "</style >\n",
    "<img src=\"{{site.baseurl}}/images/grade.png\" alt=\"Image\" class=\"centered-image\">\n",
    "\n",
    "</html>\n",
    "\n",
    "\n"
   ]
  },
  {
   "cell_type": "markdown",
   "metadata": {},
   "source": [
    "## AP Work\n",
    "- Here are my way to review AP work outside of class time to better prepare me for the Exam in may, I use this folder in notion to practice frq's, and mcq quetions to ensure that I absorb all the information and get a better understanding of JAVA.\n",
    "\n",
    "img here\n",
    "- [MCQ NOTES/ REViEW](https://krishiv111.github.io/liverpoolkm3//2023/12/22/QuizCorrections_IPYNB_2_.html)\n",
    "<html>\n",
    "<style>\n",
    ".centered-image {\n",
    "    display: block;\n",
    "    margin: 0 auto;\n",
    "    max-width: 50%; \n",
    "}\n",
    "</style >\n",
    "<img src=\"{{site.baseurl}}/images/proofstudy.png\" alt=\"Image\" class=\"centered-image\">\n",
    "\n"
   ]
  },
  {
   "cell_type": "markdown",
   "metadata": {},
   "source": [
    "<html>\n",
    "<style>\n",
    ".centered-image {\n",
    "    display: block;\n",
    "    margin: 0 auto;\n",
    "    max-width: 50%; \n",
    "}\n",
    "</style >\n",
    "<img src=\"{{site.baseurl}}/images/unit3img.png\" alt=\"Image\" class=\"centered-image\">\n",
    "\n",
    "</html>"
   ]
  },
  {
   "cell_type": "markdown",
   "metadata": {},
   "source": [
    "| FRQ      | Link                                   |\n",
    "|----------|----------------------------------------|\n",
    "\n"
   ]
  },
  {
   "cell_type": "markdown",
   "metadata": {},
   "source": [
    " \n",
    "## FRQ'S Done \n",
    "\n",
    " \n",
    "| FRQ      | Link                                   |\n",
    "|----------|----------------------------------------|\n",
    "| FRQ 1    | [Link to FRQ 1](https://krishiv111.github.io/liverpoolkm3/2024/02/24/2015q1_IPYNB_2_.html)  |\n",
    "| FRQ 2    | [Link to FRQ 2](https://krishiv111.github.io/liverpoolkm3/2024/02/24/2015q2_IPYNB_2_.html)  |\n",
    "| FRQ 3    | [Link to FRQ 3](https://krishiv111.github.io/liverpoolkm3/2024/02/24/2015q3_IPYNB_2_.html)  |\n",
    "| FRQ 4    | [Link to FRQ 4](https://krishiv111.github.io/liverpoolkm3/2024/02/24/2015q4_IPYNB_2_.html)  |\n",
    "| Issue  With Reflections  | [Link to Issue](https://github.com/Krishiv111/liverpoolkm3/issues/12) |"
   ]
  },
  {
   "cell_type": "markdown",
   "metadata": {},
   "source": [
    "# GitHub Analytics\n",
    "\n",
    "<html>\n",
    "<style>\n",
    ".centered-image {\n",
    "    display: block;\n",
    "    margin: 0 auto;\n",
    "    max-width: 50%; \n",
    "}\n",
    "</style >\n",
    "<img src=\"{{site.baseurl}}/images/ghubcommits.png\" alt=\"Image\" class=\"centered-image\">\n",
    "\n",
    "</html>"
   ]
  },
  {
   "cell_type": "markdown",
   "metadata": {},
   "source": [
    " \n",
    "## FRQ'S Done \n",
    "\n",
    " \n",
    "| FRQ      | Link                                   |\n",
    "|----------|----------------------------------------|\n",
    "| FRQ 1    | [Link to FRQ 1](https://krishiv111.github.io/liverpoolkm3/2024/02/24/2015q1_IPYNB_2_.html)  |\n",
    "| FRQ 2    | [Link to FRQ 2](https://krishiv111.github.io/liverpoolkm3/2024/02/24/2015q2_IPYNB_2_.html)  |\n",
    "| FRQ 3    | [Link to FRQ 3](https://krishiv111.github.io/liverpoolkm3/2024/02/24/2015q3_IPYNB_2_.html)  |\n",
    "| FRQ 4    | [Link to FRQ 4](https://krishiv111.github.io/liverpoolkm3/2024/02/24/2015q4_IPYNB_2_.html)  |\n",
    "| Issue  With Reflections  | [Link to Issue](https://github.com/Krishiv111/liverpoolkm3/issues/12) |"
   ]
  },
  {
   "cell_type": "markdown",
   "metadata": {},
   "source": [
    "| FRQ      | Link                                   |\n",
    "|----------|----------------------------------------|"
   ]
  }
 ],
 "metadata": {
  "language_info": {
   "name": "python"
  }
 },
 "nbformat": 4,
 "nbformat_minor": 2
}
