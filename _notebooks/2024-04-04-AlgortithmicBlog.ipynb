{
 "cells": [
  {
   "cell_type": "markdown",
   "metadata": {},
   "source": [
    "---\n",
    "toc: true\n",
    "layout: post\n",
    "title: Algorithmic Blog\n",
    "courses: { csa: {week: 20} }\n",
    "type: hacks\n",
    "---"
   ]
  },
  {
   "cell_type": "markdown",
   "metadata": {},
   "source": [
    "# Merge Sort"
   ]
  },
  {
   "cell_type": "code",
   "execution_count": 2,
   "metadata": {
    "vscode": {
     "languageId": "java"
    }
   },
   "outputs": [
    {
     "name": "stdout",
     "output_type": "stream",
     "text": [
      "Sorted array:\n",
      "5 6 7 11 12 13 "
     ]
    }
   ],
   "source": [
    "public class MergeSort {\n",
    "    public void mergeSort(int[] arr) {\n",
    "        if (arr == null || arr.length <= 1) {\n",
    "            return;\n",
    "        }\n",
    "        int[] temp = new int[arr.length];\n",
    "        mergeSort(arr, temp, 0, arr.length - 1);\n",
    "    }\n",
    "\n",
    "    private void mergeSort(int[] arr, int[] temp, int left, int right) {\n",
    "        if (left < right) {\n",
    "            int mid = left + (right - left) / 2;\n",
    "            mergeSort(arr, temp, left, mid);\n",
    "            mergeSort(arr, temp, mid + 1, right);\n",
    "            merge(arr, temp, left, mid, right);\n",
    "        }\n",
    "    }\n",
    "\n",
    "    private void merge(int[] arr, int[] temp, int left, int mid, int right) {\n",
    "        for (int i = left; i <= right; i++) {\n",
    "            temp[i] = arr[i];\n",
    "        }\n",
    "\n",
    "        int i = left;\n",
    "        int j = mid + 1;\n",
    "        int k = left;\n",
    "\n",
    "        while (i <= mid && j <= right) {\n",
    "            if (temp[i] <= temp[j]) {\n",
    "                arr[k] = temp[i];\n",
    "                i++;\n",
    "            } else {\n",
    "                arr[k] = temp[j];\n",
    "                j++;\n",
    "            }\n",
    "            k++;\n",
    "        }\n",
    "\n",
    "        while (i <= mid) {\n",
    "            arr[k] = temp[i];\n",
    "            k++;\n",
    "            i++;\n",
    "        }\n",
    "    }\n",
    "\n",
    "    public static void main(String[] args) {\n",
    "        int[] arr = { 12, 11, 13, 5, 6, 7 };\n",
    "        MergeSort mergeSort = new MergeSort();\n",
    "        mergeSort.mergeSort(arr);\n",
    "\n",
    "        System.out.println(\"Sorted array:\");\n",
    "        for (int num : arr) {\n",
    "            System.out.print(num + \" \");\n",
    "        }\n",
    "    }\n",
    "}\n",
    "MergeSort.main(null)"
   ]
  },
  {
   "cell_type": "markdown",
   "metadata": {},
   "source": [
    "# Selection"
   ]
  },
  {
   "cell_type": "code",
   "execution_count": null,
   "metadata": {
    "vscode": {
     "languageId": "java"
    }
   },
   "outputs": [],
   "source": [
    "public class SelectionSort {\n",
    "\n",
    "    public void selectionSort(int[] arr) {\n",
    "        int n = arr.length;\n",
    "\n",
    "        for (int i = 0; i < n - 1; i++) {\n",
    "            int minIndex = i;\n",
    "            // Find the index of the minimum element in the unsorted part of the array\n",
    "            for (int j = i + 1; j < n; j++) {\n",
    "                if (arr[j] < arr[minIndex]) {\n",
    "                    minIndex = j;\n",
    "                }\n",
    "            }\n",
    "            // Swap the minimum element with the first element of the unsorted part\n",
    "            int temp = arr[minIndex];\n",
    "            arr[minIndex] = arr[i];\n",
    "            arr[i] = temp;\n",
    "        }\n",
    "    }\n",
    "\n",
    "    public static void main(String[] args) {\n",
    "        int[] arr = {64, 25, 12, 22, 11};\n",
    "        SelectionSort selectionSort = new SelectionSort();\n",
    "        selectionSort.selectionSort(arr);\n",
    "        System.out.println(\"Sorted array:\");\n",
    "        for (int num : arr) {\n",
    "            System.out.print(num + \" \");\n",
    "        }\n",
    "    }\n",
    "}\n",
    "SelectionSort.main(null)"
   ]
  },
  {
   "cell_type": "markdown",
   "metadata": {},
   "source": [
    "# Insertion"
   ]
  },
  {
   "cell_type": "code",
   "execution_count": 4,
   "metadata": {
    "vscode": {
     "languageId": "java"
    }
   },
   "outputs": [
    {
     "name": "stdout",
     "output_type": "stream",
     "text": [
      "Sorted array:\n",
      "5 6 11 12 13 "
     ]
    }
   ],
   "source": [
    "public class InsertionSort {\n",
    "\n",
    "    public void insertionSort(int[] arr) {\n",
    "        int n = arr.length;\n",
    "\n",
    "        for (int i = 1; i < n; i++) {\n",
    "            int key = arr[i];\n",
    "            int j = i - 1;\n",
    "\n",
    "            // Move elements of arr[0..i-1], that are greater than key, to one position ahead of their current position\n",
    "            while (j >= 0 && arr[j] > key) {\n",
    "                arr[j + 1] = arr[j];\n",
    "                j--;\n",
    "            }\n",
    "            arr[j + 1] = key;\n",
    "        }\n",
    "    }\n",
    "\n",
    "    public static void main(String[] args) {\n",
    "        int[] arr = {12, 11, 13, 5, 6};\n",
    "        InsertionSort insertionSort = new InsertionSort();\n",
    "        insertionSort.insertionSort(arr);\n",
    "        System.out.println(\"Sorted array:\");\n",
    "        for (int num : arr) {\n",
    "            System.out.print(num + \" \");\n",
    "        }\n",
    "    }\n",
    "}\n",
    "\n",
    "\n",
    "\n",
    "\n",
    "InsertionSort.main(null)"
   ]
  },
  {
   "cell_type": "markdown",
   "metadata": {},
   "source": [
    "# Bubble Sort"
   ]
  },
  {
   "cell_type": "code",
   "execution_count": 3,
   "metadata": {
    "vscode": {
     "languageId": "java"
    }
   },
   "outputs": [
    {
     "name": "stdout",
     "output_type": "stream",
     "text": [
      "Sorted array:\n",
      "11 12 22 25 34 64 90 "
     ]
    }
   ],
   "source": [
    "public class BubbleSort {\n",
    "\n",
    "    public void bubbleSort(int[] arr) {\n",
    "        int n = arr.length;\n",
    "        boolean swapped;\n",
    "        for (int i = 0; i < n - 1; i++) {\n",
    "            swapped = false;\n",
    "            for (int j = 0; j < n - i - 1; j++) {\n",
    "                if (arr[j] > arr[j + 1]) {\n",
    "                    // Swap arr[j] and arr[j+1]\n",
    "                    int temp = arr[j];\n",
    "                    arr[j] = arr[j + 1];\n",
    "                    arr[j + 1] = temp;\n",
    "                    swapped = true;\n",
    "                }\n",
    "            }\n",
    "            // If no two elements were swapped in the inner loop, then the array is already sorted\n",
    "            if (!swapped) {\n",
    "                break;\n",
    "            }\n",
    "        }\n",
    "    }\n",
    "\n",
    "    public static void main(String[] args) {\n",
    "        int[] arr = {64, 34, 25, 12, 22, 11, 90};\n",
    "        BubbleSort bubbleSort = new BubbleSort();\n",
    "        bubbleSort.bubbleSort(arr);\n",
    "        System.out.println(\"Sorted array:\");\n",
    "        for (int num : arr) {\n",
    "            System.out.print(num + \" \");\n",
    "        }\n",
    "    }\n",
    "}\n",
    "BubbleSort.main(null)"
   ]
  },
  {
   "cell_type": "markdown",
   "metadata": {},
   "source": [
    "# Quick Sort"
   ]
  },
  {
   "cell_type": "code",
   "execution_count": 5,
   "metadata": {
    "vscode": {
     "languageId": "java"
    }
   },
   "outputs": [
    {
     "name": "stdout",
     "output_type": "stream",
     "text": [
      "Sorted array:\n",
      "1 5 7 8 9 10 "
     ]
    }
   ],
   "source": [
    "public class QuickSort {\n",
    "\n",
    "    public void quickSort(int[] arr) {\n",
    "        if (arr == null || arr.length == 0) {\n",
    "            return;\n",
    "        }\n",
    "        quickSort(arr, 0, arr.length - 1);\n",
    "    }\n",
    "\n",
    "    private void quickSort(int[] arr, int low, int high) {\n",
    "        if (low < high) {\n",
    "            int partitionIndex = partition(arr, low, high);\n",
    "            quickSort(arr, low, partitionIndex - 1);\n",
    "            quickSort(arr, partitionIndex + 1, high);\n",
    "        }\n",
    "    }\n",
    "\n",
    "    private int partition(int[] arr, int low, int high) {\n",
    "        int pivot = arr[high];\n",
    "        int i = low - 1;\n",
    "        for (int j = low; j < high; j++) {\n",
    "            if (arr[j] < pivot) {\n",
    "                i++;\n",
    "                int temp = arr[i];\n",
    "                arr[i] = arr[j];\n",
    "                arr[j] = temp;\n",
    "            }\n",
    "        }\n",
    "        int temp = arr[i + 1];\n",
    "        arr[i + 1] = arr[high];\n",
    "        arr[high] = temp;\n",
    "        return i + 1;\n",
    "    }\n",
    "\n",
    "    public static void main(String[] args) {\n",
    "        int[] arr = {10, 7, 8, 9, 1, 5};\n",
    "        QuickSort quickSort = new QuickSort();\n",
    "        quickSort.quickSort(arr);\n",
    "        System.out.println(\"Sorted array:\");\n",
    "        for (int num : arr) {\n",
    "            System.out.print(num + \" \");\n",
    "        }\n",
    "    }\n",
    "}\n",
    "\n",
    "QuickSort.main(null)"
   ]
  },
  {
   "cell_type": "markdown",
   "metadata": {},
   "source": [
    "# Using a Linked List To Sort"
   ]
  },
  {
   "cell_type": "code",
   "execution_count": 3,
   "metadata": {
    "vscode": {
     "languageId": "java"
    }
   },
   "outputs": [
    {
     "name": "stdout",
     "output_type": "stream",
     "text": [
      "Original List:\n",
      "FlowerGroupMember{name='Alara', id=1, flowerType='Rose'} FlowerGroupMember{name='Abigail', id=2, flowerType='Tulip'} FlowerGroupMember{name='Aditi', id=3, flowerType='Lily'} FlowerGroupMember{name='Yuri', id=4, flowerType='Daisy'} FlowerGroupMember{name='Aditya', id=5, flowerType='Sunflower'} FlowerGroupMember{name='Jishnu', id=6, flowerType='Orchid'} FlowerGroupMember{name='Ethan T', id=7, flowerType='Carnation'} FlowerGroupMember{name='Alex', id=8, flowerType='Hydrangea'} FlowerGroupMember{name='Tanvi', id=9, flowerType='Peony'} FlowerGroupMember{name='James', id=10, flowerType='Cherry Blossom'} FlowerGroupMember{name='Anthony', id=11, flowerType='Dahlia'} FlowerGroupMember{name='Emaad', id=12, flowerType='Freesia'} FlowerGroupMember{name='Tay', id=13, flowerType='Gerbera'} FlowerGroupMember{name='Krishiv', id=14, flowerType='Anemone'} FlowerGroupMember{name='David', id=15, flowerType='Poppy'} \n",
      "Sorted List:\n",
      "FlowerGroupMember{name='Abigail', id=2, flowerType='Tulip'} FlowerGroupMember{name='Aditi', id=3, flowerType='Lily'} FlowerGroupMember{name='Aditya', id=5, flowerType='Sunflower'} FlowerGroupMember{name='Alara', id=1, flowerType='Rose'} FlowerGroupMember{name='Alex', id=8, flowerType='Hydrangea'} FlowerGroupMember{name='Anthony', id=11, flowerType='Dahlia'} FlowerGroupMember{name='David', id=15, flowerType='Poppy'} FlowerGroupMember{name='Emaad', id=12, flowerType='Freesia'} FlowerGroupMember{name='Ethan T', id=7, flowerType='Carnation'} FlowerGroupMember{name='James', id=10, flowerType='Cherry Blossom'} FlowerGroupMember{name='Jishnu', id=6, flowerType='Orchid'} FlowerGroupMember{name='Krishiv', id=14, flowerType='Anemone'} FlowerGroupMember{name='Tanvi', id=9, flowerType='Peony'} FlowerGroupMember{name='Tay', id=13, flowerType='Gerbera'} FlowerGroupMember{name='Yuri', id=4, flowerType='Daisy'} \n"
     ]
    }
   ],
   "source": [
    "class Node<T extends Comparable<T>> {\n",
    "    T data;\n",
    "    Node<T> next;\n",
    "\n",
    "    public Node(T data) {\n",
    "        this.data = data;\n",
    "        this.next = null;\n",
    "    }\n",
    "}\n",
    "\n",
    "class LinkedList<T extends Comparable<T>> {\n",
    "    private Node<T> head;\n",
    "\n",
    "    public LinkedList() {\n",
    "        this.head = null;\n",
    "    }\n",
    "\n",
    "    public void add(T data) {\n",
    "        Node<T> newNode = new Node<>(data);\n",
    "        if (head == null) {\n",
    "            head = newNode;\n",
    "        } else {\n",
    "            Node<T> current = head;\n",
    "            while (current.next != null) {\n",
    "                current = current.next;\n",
    "            }\n",
    "            current.next = newNode;\n",
    "        }\n",
    "    }\n",
    "\n",
    "    public void print() {\n",
    "        Node<T> current = head;\n",
    "        while (current != null) {\n",
    "            System.out.print(current.data + \" \");\n",
    "            current = current.next;\n",
    "        }\n",
    "        System.out.println();\n",
    "    }\n",
    "\n",
    "    public void mergeSort() {\n",
    "        head = mergeSort(head);\n",
    "    }\n",
    "\n",
    "    private Node<T> mergeSort(Node<T> h) {\n",
    "        if (h == null || h.next == null) {\n",
    "            return h;\n",
    "        }\n",
    "\n",
    "        Node<T> middle = getMiddle(h);\n",
    "        Node<T> nextOfMiddle = middle.next;\n",
    "        middle.next = null;\n",
    "\n",
    "        Node<T> left = mergeSort(h);\n",
    "        Node<T> right = mergeSort(nextOfMiddle);\n",
    "\n",
    "        return merge(left, right);\n",
    "    }\n",
    "\n",
    "    private Node<T> merge(Node<T> left, Node<T> right) {\n",
    "        Node<T> result = null;\n",
    "\n",
    "        if (left == null) {\n",
    "            return right;\n",
    "        }\n",
    "        if (right == null) {\n",
    "            return left;\n",
    "        }\n",
    "\n",
    "        if (left.data.compareTo(right.data) <= 0) {\n",
    "            result = left;\n",
    "            result.next = merge(left.next, right);\n",
    "        } else {\n",
    "            result = right;\n",
    "            result.next = merge(left, right.next);\n",
    "        }\n",
    "\n",
    "        return result;\n",
    "    }\n",
    "\n",
    "    private Node<T> getMiddle(Node<T> h) {\n",
    "        if (h == null) {\n",
    "            return h;\n",
    "        }\n",
    "\n",
    "        Node<T> fastPtr = h.next;\n",
    "        Node<T> slowPtr = h;\n",
    "\n",
    "        while (fastPtr != null) {\n",
    "            fastPtr = fastPtr.next;\n",
    "            if (fastPtr != null) {\n",
    "                slowPtr = slowPtr.next;\n",
    "                fastPtr = fastPtr.next;\n",
    "            }\n",
    "        }\n",
    "        return slowPtr;\n",
    "    }\n",
    "}\n",
    "\n",
    "class FlowerGroupMember implements Comparable<FlowerGroupMember> {\n",
    "    private String name;\n",
    "    private int id;\n",
    "    private String flowerType;\n",
    "\n",
    "    public FlowerGroupMember(String name, int id, String flowerType) {\n",
    "        this.name = name;\n",
    "        this.id = id;\n",
    "        this.flowerType = flowerType;\n",
    "    }\n",
    "\n",
    "    @Override\n",
    "    public int compareTo(FlowerGroupMember other) {\n",
    "        return this.name.compareTo(other.name);\n",
    "    }\n",
    "\n",
    "    @Override\n",
    "    public String toString() {\n",
    "        return \"FlowerGroupMember{\" +\n",
    "                \"name='\" + name + '\\'' +\n",
    "                \", id=\" + id +\n",
    "                \", flowerType='\" + flowerType + '\\'' +\n",
    "                '}';\n",
    "    }\n",
    "}\n",
    "\n",
    "public class Main {\n",
    "    public static void main(String[] args) {\n",
    "        LinkedList<FlowerGroupMember> members = new LinkedList<>();\n",
    "        members.add(new FlowerGroupMember(\"Alara\", 1, \"Rose\"));\n",
    "        members.add(new FlowerGroupMember(\"Abigail\", 2, \"Tulip\"));\n",
    "        members.add(new FlowerGroupMember(\"Aditi\", 3, \"Lily\"));\n",
    "        members.add(new FlowerGroupMember(\"Yuri\", 4, \"Daisy\"));\n",
    "        members.add(new FlowerGroupMember(\"Aditya\", 5, \"Sunflower\"));\n",
    "        members.add(new FlowerGroupMember(\"Jishnu\", 6, \"Orchid\"));\n",
    "        members.add(new FlowerGroupMember(\"Ethan T\", 7, \"Carnation\"));\n",
    "        members.add(new FlowerGroupMember(\"Alex\", 8, \"Hydrangea\"));\n",
    "        members.add(new FlowerGroupMember(\"Tanvi\", 9, \"Peony\"));\n",
    "        members.add(new FlowerGroupMember(\"James\", 10, \"Cherry Blossom\"));\n",
    "        members.add(new FlowerGroupMember(\"Anthony\", 11, \"Dahlia\"));\n",
    "        members.add(new FlowerGroupMember(\"Emaad\", 12, \"Freesia\"));\n",
    "        members.add(new FlowerGroupMember(\"Tay\", 13, \"Gerbera\"));\n",
    "        members.add(new FlowerGroupMember(\"Krishiv\", 14, \"Anemone\"));\n",
    "        members.add(new FlowerGroupMember(\"David\", 15, \"Poppy\"));\n",
    "\n",
    "        System.out.println(\"Original List:\");\n",
    "        members.print();\n",
    "\n",
    "        members.mergeSort();\n",
    "\n",
    "        System.out.println(\"Sorted List:\");\n",
    "        members.print();\n",
    "    }\n",
    "}\n",
    "Main.main(null)"
   ]
  },
  {
   "cell_type": "markdown",
   "metadata": {},
   "source": [
    "# Expirence \n",
    "\n",
    "- During this project not only did it allow me to learn how to apply my technical skills with sorting, but also it allowed me to have fun with my group mates, This is because it enabled us to explore creativity and make memories this is becuase during practices we were able to get to know each other outside of computer science. IN addition we implemented the idea of having fun by having competitions such as papaer airplane competitions and playing tag on the playgroud. Overall i would rate this project 10/10 although it can seem daunting when you get to working it can be really fun."
   ]
  }
 ],
 "metadata": {
  "kernelspec": {
   "display_name": "Java",
   "language": "java",
   "name": "java"
  },
  "language_info": {
   "codemirror_mode": "java",
   "file_extension": ".jshell",
   "mimetype": "text/x-java-source",
   "name": "Java",
   "pygments_lexer": "java",
   "version": "20.0.1"
  }
 },
 "nbformat": 4,
 "nbformat_minor": 2
}
