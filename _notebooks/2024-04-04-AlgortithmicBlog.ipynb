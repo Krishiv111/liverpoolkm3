{
 "cells": [
  {
   "cell_type": "markdown",
   "metadata": {},
   "source": [
    "---\n",
    "toc: true\n",
    "layout: post\n",
    "title: Algorithmic Blog\n",
    "courses: { csa: {week: 20} }\n",
    "type: hacks\n",
    "---"
   ]
  },
  {
   "cell_type": "markdown",
   "metadata": {},
   "source": [
    "# Merge Sort"
   ]
  },
  {
   "cell_type": "code",
   "execution_count": 2,
   "metadata": {
    "vscode": {
     "languageId": "java"
    }
   },
   "outputs": [
    {
     "name": "stdout",
     "output_type": "stream",
     "text": [
      "Sorted array:\n",
      "5 6 7 11 12 13 "
     ]
    }
   ],
   "source": [
    "public class MergeSort {\n",
    "    public void mergeSort(int[] arr) {\n",
    "        if (arr == null || arr.length <= 1) {\n",
    "            return;\n",
    "        }\n",
    "        int[] temp = new int[arr.length];\n",
    "        mergeSort(arr, temp, 0, arr.length - 1);\n",
    "    }\n",
    "\n",
    "    private void mergeSort(int[] arr, int[] temp, int left, int right) {\n",
    "        if (left < right) {\n",
    "            int mid = left + (right - left) / 2;\n",
    "            mergeSort(arr, temp, left, mid);\n",
    "            mergeSort(arr, temp, mid + 1, right);\n",
    "            merge(arr, temp, left, mid, right);\n",
    "        }\n",
    "    }\n",
    "\n",
    "    private void merge(int[] arr, int[] temp, int left, int mid, int right) {\n",
    "        for (int i = left; i <= right; i++) {\n",
    "            temp[i] = arr[i];\n",
    "        }\n",
    "\n",
    "        int i = left;\n",
    "        int j = mid + 1;\n",
    "        int k = left;\n",
    "\n",
    "        while (i <= mid && j <= right) {\n",
    "            if (temp[i] <= temp[j]) {\n",
    "                arr[k] = temp[i];\n",
    "                i++;\n",
    "            } else {\n",
    "                arr[k] = temp[j];\n",
    "                j++;\n",
    "            }\n",
    "            k++;\n",
    "        }\n",
    "\n",
    "        while (i <= mid) {\n",
    "            arr[k] = temp[i];\n",
    "            k++;\n",
    "            i++;\n",
    "        }\n",
    "    }\n",
    "\n",
    "    public static void main(String[] args) {\n",
    "        int[] arr = { 12, 11, 13, 5, 6, 7 };\n",
    "        MergeSort mergeSort = new MergeSort();\n",
    "        mergeSort.mergeSort(arr);\n",
    "\n",
    "        System.out.println(\"Sorted array:\");\n",
    "        for (int num : arr) {\n",
    "            System.out.print(num + \" \");\n",
    "        }\n",
    "    }\n",
    "}\n",
    "MergeSort.main(null)"
   ]
  },
  {
   "cell_type": "markdown",
   "metadata": {},
   "source": [
    "# Selection"
   ]
  },
  {
   "cell_type": "code",
   "execution_count": null,
   "metadata": {
    "vscode": {
     "languageId": "java"
    }
   },
   "outputs": [],
   "source": [
    "public class SelectionSort {\n",
    "\n",
    "    public void selectionSort(int[] arr) {\n",
    "        int n = arr.length;\n",
    "\n",
    "        for (int i = 0; i < n - 1; i++) {\n",
    "            int minIndex = i;\n",
    "            // Find the index of the minimum element in the unsorted part of the array\n",
    "            for (int j = i + 1; j < n; j++) {\n",
    "                if (arr[j] < arr[minIndex]) {\n",
    "                    minIndex = j;\n",
    "                }\n",
    "            }\n",
    "            // Swap the minimum element with the first element of the unsorted part\n",
    "            int temp = arr[minIndex];\n",
    "            arr[minIndex] = arr[i];\n",
    "            arr[i] = temp;\n",
    "        }\n",
    "    }\n",
    "\n",
    "    public static void main(String[] args) {\n",
    "        int[] arr = {64, 25, 12, 22, 11};\n",
    "        SelectionSort selectionSort = new SelectionSort();\n",
    "        selectionSort.selectionSort(arr);\n",
    "        System.out.println(\"Sorted array:\");\n",
    "        for (int num : arr) {\n",
    "            System.out.print(num + \" \");\n",
    "        }\n",
    "    }\n",
    "}\n",
    "SelectionSort.main(null)"
   ]
  },
  {
   "cell_type": "markdown",
   "metadata": {},
   "source": [
    "# Insertion"
   ]
  },
  {
   "cell_type": "code",
   "execution_count": 4,
   "metadata": {
    "vscode": {
     "languageId": "java"
    }
   },
   "outputs": [
    {
     "name": "stdout",
     "output_type": "stream",
     "text": [
      "Sorted array:\n",
      "5 6 11 12 13 "
     ]
    }
   ],
   "source": [
    "public class InsertionSort {\n",
    "\n",
    "    public void insertionSort(int[] arr) {\n",
    "        int n = arr.length;\n",
    "\n",
    "        for (int i = 1; i < n; i++) {\n",
    "            int key = arr[i];\n",
    "            int j = i - 1;\n",
    "\n",
    "            // Move elements of arr[0..i-1], that are greater than key, to one position ahead of their current position\n",
    "            while (j >= 0 && arr[j] > key) {\n",
    "                arr[j + 1] = arr[j];\n",
    "                j--;\n",
    "            }\n",
    "            arr[j + 1] = key;\n",
    "        }\n",
    "    }\n",
    "\n",
    "    public static void main(String[] args) {\n",
    "        int[] arr = {12, 11, 13, 5, 6};\n",
    "        InsertionSort insertionSort = new InsertionSort();\n",
    "        insertionSort.insertionSort(arr);\n",
    "        System.out.println(\"Sorted array:\");\n",
    "        for (int num : arr) {\n",
    "            System.out.print(num + \" \");\n",
    "        }\n",
    "    }\n",
    "}\n",
    "\n",
    "\n",
    "\n",
    "\n",
    "InsertionSort.main(null)"
   ]
  },
  {
   "cell_type": "markdown",
   "metadata": {},
   "source": [
    "# Bubble Sort"
   ]
  },
  {
   "cell_type": "code",
   "execution_count": 3,
   "metadata": {
    "vscode": {
     "languageId": "java"
    }
   },
   "outputs": [
    {
     "name": "stdout",
     "output_type": "stream",
     "text": [
      "Sorted array:\n",
      "11 12 22 25 34 64 90 "
     ]
    }
   ],
   "source": [
    "public class BubbleSort {\n",
    "\n",
    "    public void bubbleSort(int[] arr) {\n",
    "        int n = arr.length;\n",
    "        boolean swapped;\n",
    "        for (int i = 0; i < n - 1; i++) {\n",
    "            swapped = false;\n",
    "            for (int j = 0; j < n - i - 1; j++) {\n",
    "                if (arr[j] > arr[j + 1]) {\n",
    "                    // Swap arr[j] and arr[j+1]\n",
    "                    int temp = arr[j];\n",
    "                    arr[j] = arr[j + 1];\n",
    "                    arr[j + 1] = temp;\n",
    "                    swapped = true;\n",
    "                }\n",
    "            }\n",
    "            // If no two elements were swapped in the inner loop, then the array is already sorted\n",
    "            if (!swapped) {\n",
    "                break;\n",
    "            }\n",
    "        }\n",
    "    }\n",
    "\n",
    "    public static void main(String[] args) {\n",
    "        int[] arr = {64, 34, 25, 12, 22, 11, 90};\n",
    "        BubbleSort bubbleSort = new BubbleSort();\n",
    "        bubbleSort.bubbleSort(arr);\n",
    "        System.out.println(\"Sorted array:\");\n",
    "        for (int num : arr) {\n",
    "            System.out.print(num + \" \");\n",
    "        }\n",
    "    }\n",
    "}\n",
    "BubbleSort.main(null)"
   ]
  },
  {
   "cell_type": "code",
   "execution_count": 5,
   "metadata": {
    "vscode": {
     "languageId": "java"
    }
   },
   "outputs": [
    {
     "name": "stdout",
     "output_type": "stream",
     "text": [
      "Sorted array:\n",
      "1 5 7 8 9 10 "
     ]
    }
   ],
   "source": [
    "public class QuickSort {\n",
    "\n",
    "    public void quickSort(int[] arr) {\n",
    "        if (arr == null || arr.length == 0) {\n",
    "            return;\n",
    "        }\n",
    "        quickSort(arr, 0, arr.length - 1);\n",
    "    }\n",
    "\n",
    "    private void quickSort(int[] arr, int low, int high) {\n",
    "        if (low < high) {\n",
    "            int partitionIndex = partition(arr, low, high);\n",
    "            quickSort(arr, low, partitionIndex - 1);\n",
    "            quickSort(arr, partitionIndex + 1, high);\n",
    "        }\n",
    "    }\n",
    "\n",
    "    private int partition(int[] arr, int low, int high) {\n",
    "        int pivot = arr[high];\n",
    "        int i = low - 1;\n",
    "        for (int j = low; j < high; j++) {\n",
    "            if (arr[j] < pivot) {\n",
    "                i++;\n",
    "                int temp = arr[i];\n",
    "                arr[i] = arr[j];\n",
    "                arr[j] = temp;\n",
    "            }\n",
    "        }\n",
    "        int temp = arr[i + 1];\n",
    "        arr[i + 1] = arr[high];\n",
    "        arr[high] = temp;\n",
    "        return i + 1;\n",
    "    }\n",
    "\n",
    "    public static void main(String[] args) {\n",
    "        int[] arr = {10, 7, 8, 9, 1, 5};\n",
    "        QuickSort quickSort = new QuickSort();\n",
    "        quickSort.quickSort(arr);\n",
    "        System.out.println(\"Sorted array:\");\n",
    "        for (int num : arr) {\n",
    "            System.out.print(num + \" \");\n",
    "        }\n",
    "    }\n",
    "}\n",
    "\n",
    "QuickSort.main(null)"
   ]
  }
 ],
 "metadata": {
  "kernelspec": {
   "display_name": "Java",
   "language": "java",
   "name": "java"
  },
  "language_info": {
   "codemirror_mode": "java",
   "file_extension": ".jshell",
   "mimetype": "text/x-java-source",
   "name": "Java",
   "pygments_lexer": "java",
   "version": "20.0.1"
  }
 },
 "nbformat": 4,
 "nbformat_minor": 2
}
