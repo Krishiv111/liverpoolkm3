{
 "cells": [
  {
   "cell_type": "markdown",
   "metadata": {},
   "source": [
    "---\n",
    "toc: true\n",
    "layout: post\n",
    "title: Writing Classes Anatomy and Scope and Acsess\n",
    "courses: { csa: {week: 25} }\n",
    "type: tangibles\n",
    "---"
   ]
  },
  {
   "cell_type": "markdown",
   "metadata": {},
   "source": [
    "# Anatomy of A Class\n",
    "\n",
    "- Within a class there are 3 parts the instance variables, methods, and constructors which all allow for purpose within an object\n",
    "    - Instance Variable: these are the attributes of the object \n",
    "    - Methods: Behaviors of the Objects, (what actions are being performed)\n",
    "    - constructors: initialize the variables within the class"
   ]
  },
  {
   "cell_type": "markdown",
   "metadata": {},
   "source": [
    "## Instance Variables \n",
    "- Within a class they are always private some examples of the following data types of a instance variable include a\n",
    "    - String\n",
    "    - Boolean \n",
    "    - double \n",
    "    - int\n",
    "- These all come from referance and the primitive data types.\n"
   ]
  },
  {
   "cell_type": "code",
   "execution_count": null,
   "metadata": {
    "vscode": {
     "languageId": "java"
    }
   },
   "outputs": [],
   "source": [
    "// here are some examples of instance varaibles\n",
    "\n",
    "public class Person {\n",
    "    private int age;\n",
    "    private double height;\n",
    "    private boolean isStudent;\n",
    "    private String name;\n",
    "}\n"
   ]
  },
  {
   "cell_type": "markdown",
   "metadata": {},
   "source": [
    "## Constructors \n",
    "- These help initialize variables, used with acsess of public in a class\n",
    "    - default constuctor: no paramaters and programmer choses default values \n",
    "    - overloaded constructor: allows you to set values of instance variables "
   ]
  },
  {
   "cell_type": "code",
   "execution_count": null,
   "metadata": {
    "vscode": {
     "languageId": "java"
    }
   },
   "outputs": [],
   "source": [
    "// defualt constructor \n",
    "public class Person {\n",
    "    private String name;\n",
    "    private int age;\n",
    "    \n",
    "    // Default Constructor\n",
    "    public Person() {\n",
    "        name = \"Unknown\";\n",
    "        age = 0;\n",
    "    }\n",
    "}\n",
    "\n",
    "// overloaded constructor\n",
    "public Person(String name) {\n",
    "    this.name = name;\n",
    "    this.age = age;\n",
    "}"
   ]
  },
  {
   "cell_type": "markdown",
   "metadata": {},
   "source": [
    "## Methods \n",
    "- These are known as the actions in your class \n",
    "    - accessor methods: give you acsess to private instance variables \n",
    "    - mutator methods: methosd that allow you to modify or change values of instance variables\n",
    "    "
   ]
  },
  {
   "cell_type": "code",
   "execution_count": null,
   "metadata": {
    "vscode": {
     "languageId": "java"
    }
   },
   "outputs": [],
   "source": [
    " // Accessor method for name\n",
    " public String getName() {\n",
    "    return name;\n",
    "}\n",
    "\n",
    "// Mutator method for name\n",
    "    public void setName(String name) {\n",
    "        this.name = name;\n",
    "    }"
   ]
  },
  {
   "cell_type": "code",
   "execution_count": null,
   "metadata": {
    "vscode": {
     "languageId": "java"
    }
   },
   "outputs": [],
   "source": [
    "// This is a Java class for a Taxi object\n",
    "public class Taxi {\n",
    "    // Fields\n",
    "    private int maxNumOfPassengers; // The maximum number of passengers the taxi can accommodate\n",
    "\n",
    "    // Constructor\n",
    "    public Taxi(int maxNumOfPassengers) {\n",
    "        this.maxNumOfPassengers = maxNumOfPassengers;\n",
    "    }\n",
    "\n",
    "    // Method for driving the taxi forward\n",
    "    public void driveForward(String inputs) {\n",
    "        // Code for driving the taxi forward\n",
    "        System.out.println(\"The taxi is driving forward with inputs: \" + inputs);\n",
    "    }\n",
    "\n",
    "    // Method for driving the taxi backward\n",
    "    public void driveBackward(String inputs) {\n",
    "        // Code for driving the taxi backward\n",
    "        System.out.println(\"The taxi is driving backward with inputs: \" + inputs);\n",
    "    }\n",
    "\n",
    "    // Method for turning on the headlights\n",
    "    public void turnOnHeadlights() {\n",
    "        // Code for turning on the headlights\n",
    "        System.out.println(\"The headlights of the taxi are turned on\");\n",
    "    }\n",
    "\n",
    "    // Main method for testing the Taxi class\n",
    "    public static void main(String[] args) {\n",
    "        // Create a Taxi object with a maximum of 4 passengers\n",
    "        Taxi myTaxi = new Taxi(4);\n",
    "\n",
    "        // Call the driveForward method\n",
    "        myTaxi.driveForward(\"input\");\n",
    "\n",
    "        // Call the driveBackward method\n",
    "        myTaxi.driveBackward(\"input\");\n",
    "\n",
    "        // Call the turnOnHeadlights method\n",
    "        myTaxi.turnOnHeadlights();\n",
    "    }\n",
    "}\n"
   ]
  },
  {
   "cell_type": "markdown",
   "metadata": {},
   "source": [
    "## Public vs Private\n",
    "- Within java there are acses methods known as public and private \n",
    "    - public: no restrictions, other classes can acsess \n",
    "    - private; strictions on acsess, only acsess in given class \n",
    "\n",
    "- Note from collegeboard: within the course of APCSA, \n",
    "    - classes are always public, \n",
    "    - instance variables are always private, \n",
    "    - constructors are always public\n",
    "    - methods can be private or public based on context."
   ]
  },
  {
   "cell_type": "markdown",
   "metadata": {},
   "source": [
    "## Hacks \n",
    "\n",
    "\n",
    "- Question 1 :\n",
    "    - You are tasked with creating a class to represent a simple banking account. Design a Java class named BankAccount that encapsulates the following data and functionality:\n",
    "\n",
    "    - Instance variables to store the account number (an integer), the account holder's name (a string), and the current balance (a double).\n",
    "    - A constructor that initializes the account number, account holder's name, and initial balance.\n",
    "    - Accessor and mutator methods for each instance variable.\n",
    "    - A method named deposit that takes a parameter representing the amount of money to deposit into the account. This method should update the balance accordingly.\n",
    "    - A method named withdraw that takes a parameter representing the amount of money to withdraw from the account. This method should update the balance accordingly, but only if the withdrawal amount is less than or equal to the current balance.\n",
    "\n",
    "- Question 2:\n",
    "    - In your own words explain the differnce between public and private\n",
    "\n",
    "\n",
    "- Question 3\n",
    "    - Show an example of a time you used a class in your PBL learning and talk about the anatomy of the class including the fields, methods, and construtors and the purpose and fucntion of these things in a class"
   ]
  }
 ],
 "metadata": {
  "language_info": {
   "name": "python"
  }
 },
 "nbformat": 4,
 "nbformat_minor": 2
}
