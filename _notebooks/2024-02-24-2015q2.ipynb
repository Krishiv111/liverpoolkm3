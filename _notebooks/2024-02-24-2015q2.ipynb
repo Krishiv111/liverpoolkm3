{
 "cells": [
  {
   "cell_type": "markdown",
   "metadata": {},
   "source": [
    "---\n",
    "toc: true\n",
    "comments : true\n",
    "layout: post\n",
    "title: 2015 FRQ Question 2\n",
    "courses: { csa: {week: 20} }\n",
    "type: tangibles\n",
    "---"
   ]
  },
  {
   "cell_type": "markdown",
   "metadata": {},
   "source": [
    "- Consider a guessing game in which a player tries to guess a hidden word. The hidden word contains only capital letters and has a length known to the player. A guess contains only capital letters and has the same length as the hidden word. After a guess is made, the player is given a hint that is based on a comparison between the hidden word and the guess. Each position in the hint contains a character that corresponds to the letter in the same position in the guess. The following rules determine the characters that appear in the hint."
   ]
  },
  {
   "cell_type": "markdown",
   "metadata": {},
   "source": [
    "| Guess Letter | Hint Character |\n",
    "|--------------|----------------|\n",
    "| In same position and also in hidden word | Matching letter |\n",
    "| In hidden word, but in different position | \"*\" |\n",
    "| Not in hidden word | \"+\" |\n",
    "\n"
   ]
  },
  {
   "cell_type": "markdown",
   "metadata": {},
   "source": [
    "### Instructions:\n",
    "\n",
    "- The `HiddenWord` class will be used to represent the hidden word in the game. \n",
    "- The hidden word is passed to the constructor. \n",
    "- The class contains a method, `getHint`, that takes a guess and produces a hint.\n",
    "\n",
    "### Example:\n",
    "\n",
    "Suppose the variable `puzzle` is declared as follows:\n",
    "\n",
    "\n",
    "The following table shows several guesses and the hints that would be produced:\n",
    "\n",
    "| Call to `getHint` | String returned |\n",
    "|-------------------|-----------------|\n",
    "| puzzle.getHint(\"AAAAA\") | \"+A+++\" |\n",
    "| puzzle.getHint(\"HELLO\") | \"H**\" |\n",
    "| puzzle.getHint(\"HEART\") | \"H++\" |\n",
    "| puzzle.getHint(\"HARMS\") | \"HAR*S\" |\n",
    "| puzzle.getHint(\"HARPS\") | \"HARPS\" |\n",
    "\n",
    "This table demonstrates the correspondence between the guess and the hint produced by the `getHint` method based on the hidden word.\n"
   ]
  },
  {
   "cell_type": "markdown",
   "metadata": {},
   "source": [
    "# Reflection.\n",
    "- THis was where I found most of my suceses in and was the question I was most undrstood as it tested my ability to create a class with approprate fields and instance vairable, constructors that intialized my variables and methods that created the matching game, however I had to reference previous lessons to understand the implementation of a string builder to add the correct vairables to match up the guess"
   ]
  },
  {
   "cell_type": "code",
   "execution_count": 6,
   "metadata": {},
   "outputs": [
    {
     "name": "stdout",
     "output_type": "stream",
     "text": [
      "H*++*\n",
      "H****\n",
      "HARPS\n"
     ]
    }
   ],
   "source": [
    "public class HiddenWord {\n",
    "    private String hiddenWord;\n",
    "\n",
    "    public HiddenWord(String word) {\n",
    "        this.hiddenWord = word;\n",
    "    }\n",
    "\n",
    "    public String getHint(String guess) {\n",
    "        StringBuilder hint = new StringBuilder();\n",
    "        for (int i = 0; i < hiddenWord.length(); i++) {\n",
    "            if (guess.charAt(i) == hiddenWord.charAt(i)) {\n",
    "                hint.append(hiddenWord.charAt(i)); // Correct letter in correct position\n",
    "            } else if (hiddenWord.indexOf(guess.charAt(i)) != -1) {\n",
    "                hint.append(\"+\"); // Correct letter but in wrong position\n",
    "            } else {\n",
    "                hint.append(\"*\"); // Incorrect letter\n",
    "            }\n",
    "        }\n",
    "        return hint.toString();\n",
    "    }\n",
    "    public static void main(String[] args){\n",
    "   // test data\n",
    "        HiddenWord harps = new HiddenWord(\"HARPS\");\n",
    "\n",
    "        System.out.println(harps.getHint(\"HEART\"));\n",
    "        System.out.println(harps.getHint(\"HELLO\"));\n",
    "        System.out.println(harps.getHint(\"HARPS\"));\n",
    "    }\n",
    "\n",
    "}\n",
    "HiddenWord.main(null);"
   ]
  }
 ],
 "metadata": {
  "kernelspec": {
   "display_name": "Java",
   "language": "java",
   "name": "java"
  },
  "language_info": {
   "codemirror_mode": "java",
   "file_extension": ".jshell",
   "mimetype": "text/x-java-source",
   "name": "java",
   "pygments_lexer": "java",
   "version": "20.0.1"
  }
 },
 "nbformat": 4,
 "nbformat_minor": 2
}
