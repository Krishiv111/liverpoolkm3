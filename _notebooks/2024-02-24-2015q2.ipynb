{
 "cells": [
  {
   "cell_type": "markdown",
   "metadata": {},
   "source": [
    "---\n",
    "toc: true\n",
    "comments : true\n",
    "layout: post\n",
    "title: 2015 FRQ Question 2\n",
    "courses: { csa: {week: 20} }\n",
    "type: tangibles\n",
    "---"
   ]
  },
  {
   "cell_type": "markdown",
   "metadata": {},
   "source": [
    "# Instructions\n",
    "- Consider a guessing game in which a player tries to guess a hidden word. The hidden word contains only capital letters and has a length known to the player. A guess contains only capital letters and has the same length as the hidden word.After a guess is made, the player is given a hint that is based on a comparison between the hidden word and the guess. Each position in the hint contains a character that corresponds to the letter in the same position in the guess. The following rules determine the characters that appear in the hint. Write the complete HiddenWord class, including any necessary instance variables, its constructor, and the method, getHint, described above. You may assume that the length of the guess is the same as the length of the hidden word.\n",
    "BoldItalicUnderlineBullet listNumbered listImage (12 image limit)Code Inline\n",
    "\n"
   ]
  },
  {
   "cell_type": "code",
   "execution_count": 6,
   "metadata": {},
   "outputs": [
    {
     "name": "stdout",
     "output_type": "stream",
     "text": [
      "H*++*\n",
      "H****\n",
      "HARPS\n"
     ]
    }
   ],
   "source": [
    "public class HiddenWord {\n",
    "    private String hiddenWord;\n",
    "\n",
    "    public HiddenWord(String word) {\n",
    "        this.hiddenWord = word;\n",
    "    }\n",
    "\n",
    "    public String getHint(String guess) {\n",
    "        StringBuilder hint = new StringBuilder();\n",
    "        for (int i = 0; i < hiddenWord.length(); i++) {\n",
    "            if (guess.charAt(i) == hiddenWord.charAt(i)) {\n",
    "                hint.append(hiddenWord.charAt(i)); // Correct letter in correct position\n",
    "            } else if (hiddenWord.indexOf(guess.charAt(i)) != -1) {\n",
    "                hint.append(\"+\"); // Correct letter but in wrong position\n",
    "            } else {\n",
    "                hint.append(\"*\"); // Incorrect letter\n",
    "            }\n",
    "        }\n",
    "        return hint.toString();\n",
    "    }\n",
    "    public static void main(String[] args){\n",
    "   // test data\n",
    "        HiddenWord harps = new HiddenWord(\"HARPS\");\n",
    "\n",
    "        System.out.println(harps.getHint(\"HEART\"));\n",
    "        System.out.println(harps.getHint(\"HELLO\"));\n",
    "        System.out.println(harps.getHint(\"HARPS\"));\n",
    "    }\n",
    "\n",
    "}\n",
    "HiddenWord.main(null);"
   ]
  }
 ],
 "metadata": {
  "kernelspec": {
   "display_name": "Java",
   "language": "java",
   "name": "java"
  },
  "language_info": {
   "codemirror_mode": "java",
   "file_extension": ".jshell",
   "mimetype": "text/x-java-source",
   "name": "java",
   "pygments_lexer": "java",
   "version": "20.0.1"
  }
 },
 "nbformat": 4,
 "nbformat_minor": 2
}
