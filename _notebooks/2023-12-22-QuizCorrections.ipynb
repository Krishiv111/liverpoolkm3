{
 "cells": [
  {
   "cell_type": "markdown",
   "metadata": {},
   "source": [
    "---\n",
    "toc: true\n",
    "layout: post\n",
    "title: College Board Corrections Trimester 2 \n",
    "courses: { csa: {week: 12} }\n",
    "type: tangibles\n",
    "---"
   ]
  },
  {
   "cell_type": "markdown",
   "metadata": {},
   "source": [
    "# Quiz Corrections "
   ]
  },
  {
   "cell_type": "markdown",
   "metadata": {},
   "source": [
    "# Question 6\n",
    "\n",
    "- What went wrong was my though process and ideas becuase the answer the method will return false since all is assigned the value \"harmchortlecrowbar\" which does not contain \"art\". This is the expected return value since “art” is not in any of the three individual words. This can be fixed if I checked the word and ran it properly through the algorithm where is which i meesed up and I need to work on taking each process step by step "
   ]
  },
  {
   "cell_type": "code",
   "execution_count": null,
   "metadata": {},
   "outputs": [],
   "source": [
    "public class Main {\n",
    "    public static void main(String[] args) {\n",
    "        // Method call that demonstrates the issue with the containsArt method\n",
    "        boolean result = containsArt(\"cart\", \"part\", \"smart\");\n",
    "        System.out.println(\"Does at least one string contain 'art'? \" + result);\n",
    "    }\n",
    "\n",
    "    public static boolean containsArt(String s1, String s2, String s3) {\n",
    "        String all = s1 + s2 + s3;\n",
    "        return (all.indexOf(\"art\") != -1);\n",
    "    }\n",
    "}\n"
   ]
  },
  {
   "cell_type": "markdown",
   "metadata": {},
   "source": [
    "# Question 7\n",
    "\n",
    "- Here the option I chose was inccorrect as it was initialized to the incorrect variable which lead to the fact that my output would be incorrect as the inse was wrong leaving hte array to be printed in a straigh form rather with the insdie and outer loops processed propertl "
   ]
  },
  {
   "cell_type": "code",
   "execution_count": 1,
   "metadata": {},
   "outputs": [],
   "source": [
    "public class Main {\n",
    "    public static void main(String[] args) {\n",
    "        for (int outer = 1; outer <= 6; outer++) {\n",
    "            for (int inner = outer; inner <= 6; inner++) {\n",
    "                if (inner % 2 == 0) {\n",
    "                    System.out.print(inner + \" \");\n",
    "                }\n",
    "            }\n",
    "            System.out.println();\n",
    "        }\n",
    "    }\n",
    "}\n"
   ]
  },
  {
   "cell_type": "markdown",
   "metadata": {},
   "source": [
    "# Question 9 \n",
    "- A pair of number cubes is used in a game of chance. Each number cube has six sides, numbered from 1 to 6, inclusive, and there is an equal probability for each of the numbers to appear on the top side (indicating the cube's value) when the number cube is rolled. The following incomplete statement appears in a program that computes the sum of the values produced by rolling two number cubes.\n",
    "\n",
    "int sum = / * missing code * / ;\n",
    "\n",
    "- Which of the following replacements for /* missing code */ would best simulate the value produced as a result of rolling two number cubes?\n",
    "Responses\n",
    "\n",
    "\n",
    "- MY answer: (int) (Math.random() * 6) + (int) (Math.random() * 6)\n",
    "\n",
    "Correct Answer: 2 + (int) (Math.random() * 6) + (int) (Math.random() * 6)\n",
    "\n",
    "Corrections: The reason why my answer is worng is beccasuee its out of the bounds there fore it doesent met critieria and takes teh value of all even numberswithout accualy habing to processs the numbers this is  becuase it doesent start at 0 and add +2 rather it adds one by on eso there is no set limit \n"
   ]
  },
  {
   "cell_type": "markdown",
   "metadata": {},
   "source": [
    "# Question 19"
   ]
  },
  {
   "cell_type": "code",
   "execution_count": null,
   "metadata": {},
   "outputs": [],
   "source": [
    "int x = 1;\n",
    "while /* condition */ {\n",
    "    if (x % 2 == 0) {\n",
    "        System.out.print(x + \" \");\n",
    "    }\n",
    "    x = x + 2;\n",
    "}\n"
   ]
  },
  {
   "cell_type": "markdown",
   "metadata": {},
   "source": [
    "\n",
    "\n",
    "The following conditions have been proposed to replace /* condition */ in the code segment.\n",
    "\n",
    "x < 0\n",
    "\n",
    "x <= 1\n",
    "\n",
    "x < 10\n",
    "\n",
    "For which of the conditions will nothing be printed?\n",
    "\n",
    "My answerL one and two only\n",
    "\n",
    "Correct answer: I, II, and III\n",
    "\n",
    "- Explanation: in my answer I overlooked option 3 because when I went throught the code becuase i bellved it gave of modular 0 there fore it could be ran through but that was not the case   loop will not execute, since 1, the value of x, is not less than 0, so nothing will be printed. In condition II, the while loop will execute one time, since 1, the value of x is less than or equal to 1, however, 1 is not even, so nothing will be printed."
   ]
  },
  {
   "cell_type": "markdown",
   "metadata": {},
   "source": [
    "# Question 20\n"
   ]
  },
  {
   "cell_type": "code",
   "execution_count": null,
   "metadata": {},
   "outputs": [],
   "source": [
    "/**\n",
    " * Precondition: arr.length > 0\n",
    " */\n",
    "public static int mystery(int[] arr) {\n",
    "    int index = 0;\n",
    "    int count = 0;\n",
    "    int m = -1;\n",
    "\n",
    "    for (int outer = 0; outer < arr.length; outer++) {\n",
    "        count = 0;\n",
    "        for (int inner = outer + 1; inner < arr.length; inner++) {\n",
    "            if (arr[outer] == arr[inner]) {\n",
    "                count++;\n",
    "            }\n",
    "        }\n",
    "        if (count > m) {\n",
    "            index = outer;\n",
    "            m = count;\n",
    "        }\n",
    "    }\n",
    "    \n",
    "    return index;\n",
    "}\n"
   ]
  },
  {
   "cell_type": "markdown",
   "metadata": {},
   "source": [
    "Assume that nums has been declared and initialized as an array of integer values. Which of the following best describes the value returned by the call mystery(nums) ?\n",
    "- My answer: An index of the maximum value that occurs in nums\n",
    "- Correct Answer \n",
    "An index of a value that occurs most often in numd\n",
    "\n",
    "Explanation The reason why I reasilized my answer was wrong is becuas ince the algorithm is counting the number of elements that are equal to the element at the current value of outer, the index being returned could be a value in nums that is less than the maximum value."
   ]
  },
  {
   "cell_type": "markdown",
   "metadata": {},
   "source": [
    "# Question 26 \n"
   ]
  },
  {
   "cell_type": "code",
   "execution_count": null,
   "metadata": {},
   "outputs": [],
   "source": [
    "public class ChangeIt {\n",
    "    public static void changeIt(int[] arr, int val, String word) {\n",
    "        arr = new int[5];\n",
    "        val = 0;\n",
    "        word = word.substring(0, 5);\n",
    "        for (int k = 0; k < arr.length; k++) {\n",
    "            arr[k] = 0;\n",
    "        }\n",
    "    }\n",
    "\n",
    "    public static void start() {\n",
    "        int[] nums = { 1, 2, 3, 4, 5 };\n",
    "        int value = 6;\n",
    "        String name = \"blackboard\";\n",
    "        changeIt(nums, value, name);\n",
    "\n",
    "        for (int k = 0; k < nums.length; k++) {\n",
    "            System.out.print(nums[k] + \"\");\n",
    "        }\n",
    "        System.out.println(value + \"\");\n",
    "        System.out.println(name);\n",
    "    }\n",
    "\n",
    "    public static void main(String[] args) {\n",
    "        start();\n",
    "    }\n",
    "}\n"
   ]
  },
  {
   "cell_type": "markdown",
   "metadata": {},
   "source": [
    "- What is printed as a result of the call start() ?\n",
    "- Responses\n",
    "- A\n",
    "- 0 0 0 0 0 0 black\n",
    "- B\n",
    "- 0 0 0 0 0 6 blackboard\n",
    "- C\n",
    "- 1 2 3 4 5 6 black\n",
    "- D\n",
    "- 1 2 3 4 5 0 black\n",
    "- E\n",
    "- 1 2 3 4 5 6 blackboard\n",
    "\n",
    "- My answer: C\n",
    "Correct Answer E\n",
    "-  Explanation: The reason why my answer was wrong was due to the fact that the inital varable that I initalized was interpreted to be wrong as call would need to be made in method start if we wanted name to be “black” instead of “blackboard”. Assigning a new value to word in changeIt does not affect name in start Therefore the number and value should go throug blackboard but I am still not quite sure on how this is incorrect. \n"
   ]
  },
  {
   "cell_type": "markdown",
   "metadata": {},
   "source": [
    "# Question 30"
   ]
  },
  {
   "cell_type": "code",
   "execution_count": null,
   "metadata": {},
   "outputs": [],
   "source": [
    "if (numBoxes >= 10) {\n",
    "    totalCost = numBoxes * 1.50;\n",
    "} else if (numBoxes >= 5) {\n",
    "    totalCost = numBoxes * 3.00;\n",
    "} else if (numBoxes > 0) {\n",
    "    totalCost = numBoxes * 5.00;\n",
    "}\n"
   ]
  },
  {
   "cell_type": "markdown",
   "metadata": {},
   "source": [
    "# Explanation \n",
    "\n",
    "Correct Answer B\n",
    "\n",
    "- Explanatio: or Segment B: This code uses else if statements, which will only execute one of the blocks of code based on the conditions. It ensures that only one condition will be met and the appropriate totalCost will be calculated. This seems to be the correct structure."
   ]
  },
  {
   "cell_type": "markdown",
   "metadata": {},
   "source": [
    "# Question 32"
   ]
  },
  {
   "cell_type": "code",
   "execution_count": null,
   "metadata": {},
   "outputs": [],
   "source": [
    "String[][] board = new String[5][5];\n",
    "\n",
    "// Initializing the board with \"O\"\n",
    "for (int row = 0; row < 5; row++) {\n",
    "    for (int col = 0; col < 5; col++) {\n",
    "        board[row][col] = \"O\";\n",
    "    }\n",
    "}\n",
    "\n",
    "// Manipulating the board with \"X\" based on a condition\n",
    "for (int val = 0; val < 5; val++) {\n",
    "    if (val % 2 == 1) {\n",
    "        int row = val;\n",
    "        int col = 0;\n",
    "        while (col < 5 && row >= 0) {\n",
    "            board[row][col] = \"X\";\n",
    "            col++;\n",
    "            row--;\n",
    "        }\n",
    "    }\n",
    "}\n"
   ]
  },
  {
   "cell_type": "markdown",
   "metadata": {},
   "source": [
    "Answer:\n",
    "- O O O O O\n",
    "- X O O O O\n",
    "- O X O O O\n",
    "- X O X O O\n",
    "- O X O X O\n",
    "\n",
    "- Explanatio: \n",
    "This code initializes a 5x5 board with \"O\" in each cell. It then iterates through a loop from 0 to 4, checking if the value is odd. For each odd value encountered, it initiates a sequence where \"X\" is placed diagonally starting from the respective row number in the first column. \n"
   ]
  },
  {
   "cell_type": "markdown",
   "metadata": {},
   "source": [
    "# Question 33"
   ]
  },
  {
   "cell_type": "code",
   "execution_count": null,
   "metadata": {},
   "outputs": [],
   "source": [
    "for (StudentInfo k : students) {\n",
    "    if (k.getMajor().equals(theMajor)) {\n",
    "        sum += k.getAge();\n",
    "        count++;\n",
    "    }\n",
    "}\n"
   ]
  },
  {
   "cell_type": "markdown",
   "metadata": {},
   "source": [
    "## Answer "
   ]
  },
  {
   "cell_type": "code",
   "execution_count": null,
   "metadata": {},
   "outputs": [],
   "source": [
    "if (k.getMajor() == theMajor) {\n",
    "    sum += k.getAge();\n",
    "    count++;\n",
    "}\n"
   ]
  },
  {
   "cell_type": "markdown",
   "metadata": {},
   "source": [
    "### EXPLANATION \n",
    "- This is correct due to the fact that the  major is a String, using .equals() or .equalsIgnoreCase() methods to compare strings is recommended instead of ==, this is my mistake as I went throug the operators incorrecly and though += was equal to ++++"
   ]
  },
  {
   "cell_type": "markdown",
   "metadata": {},
   "source": [
    "# Question 37"
   ]
  },
  {
   "cell_type": "code",
   "execution_count": null,
   "metadata": {},
   "outputs": [],
   "source": [
    "public class BinarySearchExample {\n",
    "    public static int binarySearch(int[] data, int target) {\n",
    "        int start = 0;\n",
    "        int end = data.length - 1;\n",
    "\n",
    "        int countMidpointCalculations = 0; // Counter for midpoint calculations\n",
    "\n",
    "        while (start <= end) {\n",
    "            int mid = (start + end) / 2; // Calculate midpoint\n",
    "\n",
    "            if (target < data[mid]) {\n",
    "                end = mid - 1;\n",
    "            } else if (target > data[mid]) {\n",
    "                start = mid + 1;\n",
    "            } else {\n",
    "                return mid;\n",
    "            }\n",
    "\n",
    "            countMidpointCalculations++; // Increment the count of midpoint calculations\n",
    "        }\n",
    "\n",
    "        return -1;\n",
    "    }\n",
    "\n",
    "    public static void main(String[] args) {\n",
    "        int[] sortedArray = new int[2000]; // Assuming an array of 2000 elements\n",
    "\n",
    "        // ... (code to fill the array with sorted elements)\n",
    "\n",
    "        int target = 42; // Example target value\n",
    "        int result = binarySearch(sortedArray, target);\n",
    "\n",
    "        System.out.println(\"Result: \" + result);\n",
    "        System.out.println(\"Maximum number of midpoint calculations: \" + calculateMaxMidpointCalculations(2000));\n",
    "    }\n",
    "\n",
    "    public static int calculateMaxMidpointCalculations(int arraySize) {\n",
    "        return (int) (Math.log(arraySize) / Math.log(2));\n",
    "    }\n",
    "}\n"
   ]
  },
  {
   "cell_type": "markdown",
   "metadata": {},
   "source": [
    "# Answer and Explanation \n",
    "- my answer: 2000\n",
    "- correct answer: 11\n",
    "- Explantion: MY answer is Incorrect This is becuase it could be the number of times the loop would iterate if we were conducting a linear search. And the correct asnwer 11 works becuase t. The first iteration would check the middle element of 2000 and eliminate approximately 1000 elements. The second iteration would check the middle element of 1000 and eliminate approximately 500 elements. The third would eliminate approximately 250 elements. "
   ]
  }
 ],
 "metadata": {
  "kernelspec": {
   "display_name": "Java",
   "language": "java",
   "name": "java"
  },
  "language_info": {
   "codemirror_mode": "java",
   "file_extension": ".jshell",
   "mimetype": "text/x-java-source",
   "name": "java",
   "pygments_lexer": "java",
   "version": "20.0.1"
  }
 },
 "nbformat": 4,
 "nbformat_minor": 2
}
