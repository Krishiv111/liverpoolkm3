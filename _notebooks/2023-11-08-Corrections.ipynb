{
 "cells": [
  {
   "cell_type": "markdown",
   "metadata": {},
   "source": [
    "---\n",
    "toc: true\n",
    "layout: post\n",
    "title: College Board Corrections\n",
    "courses: { csa: {week: 12} }\n",
    "type: tangibles\n",
    "---"
   ]
  },
  {
   "cell_type": "markdown",
   "metadata": {},
   "source": [
    "# Question 5\n",
    "- This is incorrect if A was initialized to 0 this is becuase the ine is from k is 1 - 4 meaning that sinice we need it to get to the index of, I need to work on that I understand what difit we are initalizing to in when we using different type of opperators. "
   ]
  },
  {
   "cell_type": "markdown",
   "metadata": {},
   "source": [
    "# Question 12 \n",
    "- This was the wrong interperation of what loop occured, this was die to the fact that, here the object is to use mat and to have to correct, then you have to use math.abs in order to initialize and calculated, this error was due to my lack of understanding what I understood where math.random is called making my answer incorrect."
   ]
  },
  {
   "cell_type": "markdown",
   "metadata": {},
   "source": [
    " # Qeustion 13 \n",
    "\n",
    " Incorrect. This would be correct if arr[k + 1] was printed instead of arr[k]. This is due to the fact that it was initialized to the k of 1 istead of 0 "
   ]
  },
  {
   "cell_type": "markdown",
   "metadata": {},
   "source": [
    "# Question 21\n",
    "- This is becuase the variables is what I initialized wrong due to the fact that since the nun which isnt mapped to the correct number "
   ]
  }
 ],
 "metadata": {
  "language_info": {
   "name": "python"
  }
 },
 "nbformat": 4,
 "nbformat_minor": 2
}
