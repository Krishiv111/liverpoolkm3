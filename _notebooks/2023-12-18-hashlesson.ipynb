{
 "cells": [
  {
   "cell_type": "markdown",
   "metadata": {},
   "source": [
    "---\n",
    "layout: notebook\n",
    "title: HashMap\n",
    "toc: true\n",
    "comments: true\n",
    "description: Lesson by Shaurya, James, and Shivansh\n",
    "courses: { csa: {week: 16} }\n",
    "type: hacks\n",
    "---"
   ]
  },
  {
   "cell_type": "markdown",
   "metadata": {},
   "source": [
    "# Key Concepts \n",
    "**Directions: Fill in the blanks, this is a Popcorn HACK**\n",
    "\n",
    "## Hashing\n",
    "- HashMap uses a hash function to map keys to their respective bukets  .\n",
    "- A good hash function generates a unique hash code for each key, but collisions  can still occur.\n",
    "- The hash map in Java does not maintain insertion order.\n",
    "\n",
    "## Performance\n",
    "\n",
    "- HashMap provides constant-time performance (O(1)) for get() and put() operations.\n",
    "- Performance can degrade to O(n) in the worst case, especially if there are many hash collisions.\n",
    "\n",
    "## Key and Value Types\n",
    "\n",
    "- HashMap allows any non null object as a key and any object (including null) as a value.\n",
    "- For a class to be used as a key, it must implement the get and puts methods.\n",
    "\n",
    "## Iteration:\n",
    "\n",
    "- HashMap provides methods like keySet(), values(), and entrySet() for iterating over key-value pairs.\n",
    "- The entrySet() method returns a Set view of key-value pairs, allowing key vlaue sets  and model pairs .\n",
    "\n",
    "## Thread Safety\n",
    "\n",
    "- HashMap is not thread-safe. For thread-safe operations, use ConcurrentHashMap."
   ]
  },
  {
   "cell_type": "markdown",
   "metadata": {},
   "source": [
    "\n",
    "# What is HashMap\n",
    "A HashMap store items in \"key/value\" pairs, and you can access them by an index of another type (e.g. a String).\n",
    "\n",
    "One object is used as a key (index) to another object (value). It can store different types: String keys and Integer values, or the same type, like: String keys and String values:\n"
   ]
  },
  {
   "cell_type": "markdown",
   "metadata": {},
   "source": [
    "## Creating HashMap in Java\n"
   ]
  },
  {
   "cell_type": "code",
   "execution_count": null,
   "metadata": {
    "vscode": {
     "languageId": "java"
    }
   },
   "outputs": [
    {
     "name": "stdout",
     "output_type": "stream",
     "text": [
      "Successfully created a HashMap which stores items in key/value pairs\n"
     ]
    }
   ],
   "source": [
    "import java.util.HashMap; // import the HashMap class\n",
    "\n",
    "public class CreateHashMap{\n",
    "    public static void main(String[] args){\n",
    "        // Generating the HashMap\n",
    "    HashMap<String, String> capitalCities = new HashMap<String, String>();\n",
    "    // Adding key/value pairs tothe HashMap to store\n",
    "            capitalCities.put(\"America\", \"D.C\");\n",
    "            capitalCities.put(\"Germany\", \"Berlin\");\n",
    "            capitalCities.put(\"United Kingdom\", \"London\");\n",
    "            capitalCities.put(\"India\", \"Delhi\");\n",
    "            capitalCities.put(\"Afghanistan\", \"Delhi\");\n",
    "            capitalCities.put(\"Bangladesh\", \"Dhaka\");\n",
    "            \n",
    "            System.out.println(\"Successfully created a HashMap which stores items in key/value pairs\");\n",
    "    }\n",
    "}\n",
    "\n",
    "CreateHashMap.main(null);\n",
    "\n"
   ]
  },
  {
   "cell_type": "markdown",
   "metadata": {},
   "source": [
    "# Methods in HashMap"
   ]
  },
  {
   "cell_type": "code",
   "execution_count": null,
   "metadata": {
    "vscode": {
     "languageId": "java"
    }
   },
   "outputs": [
    {
     "name": "stdout",
     "output_type": "stream",
     "text": [
      "25\n",
      "4\n",
      "The set is: [Travis Kelce=34, Shivansh=25, Shaurya=30, Patrick Mahomes=28]\n",
      "Is the key 'Shivansh' present? true\n"
     ]
    }
   ],
   "source": [
    "\n",
    "import java.util.HashMap;\n",
    " \n",
    "public class ExampleHashMap {\n",
    "      public static void main(String[] args) {\n",
    "       \n",
    "      // Create a HashMap\n",
    "      HashMap<String, Integer> hashMap = new HashMap<>();\n",
    "       \n",
    "      // Add elements to the HashMap\n",
    "      hashMap.put(\"Shivansh\", 25);\n",
    "      hashMap.put(\"Shaurya\", 30);\n",
    "      hashMap.put(\"Patrick Mahomes\", 28);\n",
    "      hashMap.put(\"Travis Kelce\", 34);\n",
    "      hashMap.put(\"Tom Brady\", 46);\n",
    "       \n",
    "      // HashMap put() method in Java (Access elements in the HashMap)\n",
    "      System.out.println(hashMap.get(\"Shivansh\")); \n",
    "\n",
    "      // HashMap remove() method in Java (Remove an element from the HashMap)\n",
    "      hashMap.remove(\"Tom Brady\");\n",
    "       \n",
    "      // HashMap size() method in Java (Get the size of the HashMap)\n",
    "      System.out.println(hashMap.size()); \n",
    "\n",
    "      // HashMap entrySet() method in Java (Get the Entry Set)\n",
    "      System.out.println(\"The set is: \" + hashMap.entrySet()); \n",
    "\n",
    "      // HashMap containsKey() method in Java (check whether a particular key is being mapped into the HashMap or not)\n",
    "      System.out.println(\"Is the key 'Shivansh' present? \" + hashMap.containsKey(\"Shivansh\"));\n",
    "      \n",
    "      \n",
    "   }\n",
    "}\n",
    "ExampleHashMap.main(null);"
   ]
  },
  {
   "cell_type": "markdown",
   "metadata": {},
   "source": [
    "### Popcorn Hack 1\n",
    "Declare a Hashmap, and then research 5 different HashMap method which were not listed above and use them in your code just like the one above."
   ]
  },
  {
   "cell_type": "code",
   "execution_count": null,
   "metadata": {
    "vscode": {
     "languageId": "java"
    }
   },
   "outputs": [],
   "source": [
    "import java.util.HashMap;\n",
    "import java.util.Map;\n",
    "\n",
    "public class HashMapExample {\n",
    "    public static void main(String[] args) {\n",
    "        // Declare a HashMap\n",
    "        Map<Integer, String> hashMap = new HashMap<>();\n",
    "\n",
    "        // Add elements to the HashMap\n",
    "        hashMap.put(1, \"One\");\n",
    "        hashMap.put(2, \"Two\");\n",
    "        hashMap.put(3, \"Three\");\n",
    "\n",
    "        // Using putIfAbsent method\n",
    "        hashMap.putIfAbsent(4, \"Four\"); // Adds the entry only if the key is not present\n",
    "\n",
    "        // Using computeIfAbsent method\n",
    "        hashMap.computeIfAbsent(5, k -> \"Five\"); // Computes and adds the value if the key is absent\n",
    "\n",
    "        // Using keySet method\n",
    "        System.out.println(\"Keys in the HashMap:\");\n",
    "        for (Integer key : hashMap.keySet()) {\n",
    "            System.out.println(key);\n",
    "        }\n",
    "\n",
    "        // Using values method\n",
    "        System.out.println(\"\\nValues in the HashMap:\");\n",
    "        for (String value : hashMap.values()) {\n",
    "            System.out.println(value);\n",
    "        }\n",
    "\n",
    "        // Using entrySet method\n",
    "        System.out.println(\"\\nEntries in the HashMap:\");\n",
    "        for (Map.Entry<Integer, String> entry : hashMap.entrySet()) {\n",
    "            System.out.println(\"Key: \" + entry.getKey() + \", Value: \" + entry.getValue());\n",
    "        }\n",
    "    }\n",
    "}\n"
   ]
  },
  {
   "cell_type": "markdown",
   "metadata": {},
   "source": [
    "# Traversing through HashMap\n",
    "\n",
    "In the code below, hash_map.entrySet() is used to return a set view of the mapped elements. Now, getValue() and getKey() functions, key-value pairs can be iterated."
   ]
  },
  {
   "cell_type": "code",
   "execution_count": null,
   "metadata": {
    "vscode": {
     "languageId": "java"
    }
   },
   "outputs": [
    {
     "name": "stdout",
     "output_type": "stream",
     "text": [
      "1 = Jalen Hurts\n",
      "2 = Dak Prescott\n",
      "3 = Josh Allen\n",
      "4 = Lamar Jackson\n",
      "5 = Brock Purdy\n"
     ]
    }
   ],
   "source": [
    "import java.util.HashMap;\n",
    "import java.util.Map;\n",
    "\n",
    "public class TraverseHashMap {\n",
    "    public static void main(String[] args) {\n",
    "        // Week 15 NFL Quarterback Rankings\n",
    "        HashMap<Integer, String> hash_map = new HashMap<>();\n",
    "        hash_map.put(1, \"Jalen Hurts\");\n",
    "        hash_map.put(2, \"Dak Prescott\");\n",
    "        hash_map.put(3, \"Josh Allen\");\n",
    "        hash_map.put(4, \"Lamar Jackson\");\n",
    "        hash_map.put(5, \"Brock Purdy\");\n",
    "\n",
    "        for (Map.Entry<Integer, String> set : hash_map.entrySet()) {\n",
    "            System.out.println(set.getKey() + \" = \" + set.getValue());\n",
    "        }\n",
    "    }\n",
    "}\n"
   ]
  },
  {
   "cell_type": "markdown",
   "metadata": {},
   "source": [
    "### Popcorn Hack 2 (Extra Credit)\n",
    "Try to find a different way to traverse a HashMap (Hint: try using a forEach function)"
   ]
  },
  {
   "cell_type": "code",
   "execution_count": 2,
   "metadata": {
    "vscode": {
     "languageId": "java"
    }
   },
   "outputs": [
    {
     "name": "stdout",
     "output_type": "stream",
     "text": [
      "1 = Jalen Hurts\n",
      "2 = Dak Prescott\n",
      "3 = Josh Allen\n",
      "4 = Lamar Jackson\n",
      "5 = Brock Purdy\n"
     ]
    }
   ],
   "source": [
    "import java.util.HashMap;\n",
    "\n",
    "public class TraverseHashMap {\n",
    "    public static void main(String[] args) {\n",
    "        // Week 15 NFL Quarterback Rankings\n",
    "        HashMap<Integer, String> hash_map = new HashMap<>();\n",
    "        hash_map.put(1, \"Jalen Hurts\");\n",
    "        hash_map.put(2, \"Dak Prescott\");\n",
    "        hash_map.put(3, \"Josh Allen\");\n",
    "        hash_map.put(4, \"Lamar Jackson\");\n",
    "        hash_map.put(5, \"Brock Purdy\");\n",
    "\n",
    "        // Using forEach to traverse the HashMap\n",
    "        hash_map.forEach((key, value) -> System.out.println(key + \" = \" + value));\n",
    "    }\n",
    "}\n",
    "TraverseHashMap.main(null)"
   ]
  },
  {
   "cell_type": "markdown",
   "metadata": {},
   "source": [
    "# HashMaps in Java - Pet Registry Example "
   ]
  },
  {
   "cell_type": "code",
   "execution_count": 2,
   "metadata": {
    "vscode": {
     "languageId": "java"
    }
   },
   "outputs": [],
   "source": [
    "public class Pet {\n",
    "    private final String name;\n",
    "    private final int age;\n",
    "    private final String color;\n",
    "\n",
    "    public Pet(String name, int age, String color) {\n",
    "        this.name = name;\n",
    "        this.age = age;\n",
    "        this.color = color;\n",
    "    }\n",
    "\n",
    "    public String getName() {\n",
    "        return this.name;\n",
    "    }\n",
    "\n",
    "    public int getAge() {\n",
    "        return this.age;\n",
    "    }\n",
    "\n",
    "    public String getColor() {\n",
    "        return this.color;\n",
    "    }\n",
    "}\n"
   ]
  },
  {
   "cell_type": "code",
   "execution_count": 6,
   "metadata": {
    "vscode": {
     "languageId": "java"
    }
   },
   "outputs": [
    {
     "name": "stdout",
     "output_type": "stream",
     "text": [
      "Hobbes is a Calico Kitty and is 1 years old.\n",
      "Leo is a Gold Lion and is 8 years old.\n",
      "Porky is a Pink Pig and is 3 years old.\n",
      "Ro-Ro is a Red Robin and is 7 years old.\n",
      "Duke is a Brown Dog and is 14 years old.\n",
      "Midnight is a Black Cat and is 10 years old.\n",
      "\n",
      "Removed: Hobbes, REPL.$JShell$13$Pet@41a890b3\n",
      "Leo is a Gold Lion and is 8 years old.\n",
      "Porky is a Pink Pig and is 3 years old.\n",
      "Ro-Ro is a Red Robin and is 7 years old.\n",
      "Duke is a Brown Dog and is 14 years old.\n",
      "Midnight is a Black Cat and is 10 years old.\n",
      "\n"
     ]
    }
   ],
   "source": [
    "public class PetsRegistry {\n",
    "    \n",
    "    private HashMap<String, Pet> petRegistry = new HashMap<>(); // declares a private HashMap instance variable petRegistry\n",
    "    // Key Type String and Value Type Pet\n",
    "\n",
    "    public PetsRegistry() {\n",
    "        // Add some pets to the registry\n",
    "        petRegistry.put(\"Leo\", new Pet(\"Lion\", 8, \"Gold\"));\n",
    "        petRegistry.put(\"Porky\", new Pet(\"Pig\", 3, \"Pink\"));\n",
    "        petRegistry.put(\"Ro-Ro\", new Pet(\"Robin\", 7, \"Red\"));\n",
    "        petRegistry.put(\"Midnight\", new Pet(\"Cat\", 10, \"Black\"));\n",
    "        petRegistry.put(\"Hobbes\", new Pet(\"Kitty\", 1, \"Calico\"));\n",
    "        petRegistry.put(\"Duke\", new Pet(\"Dog\", 14, \"Brown\"));\n",
    "    }\n",
    "\n",
    "    public Pet removePet(String name) {\n",
    "        // Remove a pet by name\n",
    "        return petRegistry.remove(name);\n",
    "    }\n",
    "\n",
    "    public void printRegistry() {\n",
    "        // Iterate over the registry and print pet information\n",
    "        for (String name : petRegistry.keySet()) { // for each loop\n",
    "            Pet pet = petRegistry.get(name);\n",
    "            System.out.println(name + \" is a \" + pet.getColor() + \" \" + pet.getName() +\n",
    "                    \" and is \" + pet.getAge() + \" years old.\");\n",
    "        }\n",
    "        System.out.println();\n",
    "    }\n",
    "\n",
    "    public static void main(String[] args) {\n",
    "        // Initialize the pet registry\n",
    "        PetsRegistry petsRegistry = new PetsRegistry();\n",
    "        petsRegistry.printRegistry();\n",
    "\n",
    "        // Remove a pet\n",
    "        String petNameToRemove = \"Hobbes\";\n",
    "        Pet removedPet = petsRegistry.removePet(petNameToRemove);\n",
    "        if (removedPet == null) {\n",
    "            System.out.println(petNameToRemove + \" not found\");\n",
    "        } else {\n",
    "            System.out.println(\"Removed: \" + petNameToRemove + \", \" + removedPet);\n",
    "        }\n",
    "\n",
    "        // Print the updated registry\n",
    "        petsRegistry.printRegistry();\n",
    "    }\n",
    "}\n",
    "PetsRegistry.main(null)"
   ]
  },
  {
   "cell_type": "markdown",
   "metadata": {},
   "source": [
    "# Popcorn HACK 3 (Shaurya)"
   ]
  },
  {
   "cell_type": "code",
   "execution_count": 3,
   "metadata": {
    "vscode": {
     "languageId": "java"
    }
   },
   "outputs": [
    {
     "name": "stdout",
     "output_type": "stream",
     "text": [
      "Value for key 2: Banana\n",
      "Does the map contain key 4? false\n",
      "Updated HashMap:\n",
      "Key: 2, Value: Banana\n",
      "Key: 3, Value: Cherry\n"
     ]
    }
   ],
   "source": [
    "import java.util.HashMap;\n",
    "import java.util.Map;\n",
    "\n",
    "public class HashMapTest {\n",
    "    public static void main(String[] args) {\n",
    "        // Create a new HashMap with Integer keys and String values\n",
    "        Map<Integer, String> myMap = new HashMap<>();\n",
    "\n",
    "        // Add some key-value pairs to the HashMap\n",
    "        myMap.put(1, \"Apple\");\n",
    "        myMap.put(2, \"Banana\");\n",
    "        myMap.put(3, \"Cherry\");\n",
    "\n",
    "        // Fill in the blanks: Retrieve and print the value for key 2\n",
    "        String valueForKey2 = myMap.get(2);\n",
    "        System.out.println(\"Value for key 2: \" + valueForKey2);\n",
    "\n",
    "        // Fill in the blanks: Check if the HashMap contains key 4\n",
    "        boolean containsKey4 = myMap.containsKey(4);\n",
    "        System.out.println(\"Does the map contain key 4? \" + containsKey4);\n",
    "\n",
    "        // Fill in the blanks: Remove the entry with key 1 from the HashMap\n",
    "        myMap.remove(1);\n",
    "\n",
    "        // Print the updated contents of the HashMap\n",
    "        System.out.println(\"Updated HashMap:\");\n",
    "        for (Map.Entry<Integer, String> entry : myMap.entrySet()) {\n",
    "            System.out.println(\"Key: \" + entry.getKey() + \", Value: \" + entry.getValue());\n",
    "        }\n",
    "    }\n",
    "}\n",
    "HashMapTest.main(null)"
   ]
  },
  {
   "cell_type": "markdown",
   "metadata": {},
   "source": [
    "# Popcorn HACK 4 - Quiz (Shaurya)\n",
    "\n",
    "## Multiple Choice:\n",
    "\n",
    "### Question 1: Hashing in HashMap\n",
    "\n",
    "What is the primary purpose of a hash function in a HashMap?\n",
    "\n",
    "- A) To encrypt the keys\n",
    "- B) To map keys to corresponding buckets\n",
    "- C) To validate the keys\n",
    "- D) To generate random numbers\n",
    "\n",
    "**Answer: B) To map keys to corresponding buckets**\n",
    "\n",
    "The primary purpose of a hash function in a HashMap is to map keys to specific indices (buckets) within the underlying array-based data structure. This mapping allows for efficient retrieval and storage of key-value pairs.\n",
    "\n",
    "### Question 2: Performance of HashMap\n",
    "\n",
    "What is the time complexity of the get() and put() operations in a well-distributed HashMap?\n",
    "\n",
    "- A) O(log n)\n",
    "- B) O(n)\n",
    "- C) O(1)\n",
    "- D) O(n^2)\n",
    "\n",
    "**Answer: C) O(1)**\n",
    "\n",
    "In a well-distributed HashMap, both `get()` and `put()` operations have a time complexity of O(1) on average, assuming a good hash function and minimal collisions. This means that the time taken for these operations is constant and independent of the size of the HashMap.\n",
    "\n",
    "## Free Response:\n",
    "\n",
    "### Question 3: Key and Value Types in HashMap\n",
    "\n",
    "Describe the types of objects that can be used as keys and values in a HashMap. Additionally, explain the methods that a class should implement if used as a key.\n",
    "\n",
    "In a HashMap:\n",
    "- Keys: Any object that implements the `hashCode()` and `equals()` methods can be used as keys. These methods are crucial for generating hash codes and comparing keys for equality in hash-based data structures.\n",
    "- Values: Can be any object type, including primitives (which are auto-boxed into their corresponding wrapper classes).\n",
    "\n",
    "For a class to be used as a key, it should implement:\n",
    "- `hashCode()`: Generates a unique hash code for the object.\n",
    "- `equals(Object obj)`: Compares the object with another for equality.\n",
    "\n",
    "### Question 4: Iteration in HashMap\n",
    "\n",
    "Provide brief explanations for two methods in HashMap that can be used to iterate over its key-value pairs.\n",
    "\n",
    "Two methods for iterating over key-value pairs in a HashMap are:\n",
    "1. **`entrySet()`:** Returns a set view of the mappings contained in the map. It allows iterating through the entries using a for-each loop or an iterator.\n",
    "2. **`forEach()`:** Introduced in Java 8, this method accepts a BiConsumer functional interface and can be used to perform an action for each key-value pair in the map.\n",
    "\n",
    "### Question 5: Thread Safety in HashMap\n",
    "\n",
    "Explain why HashMap is not thread-safe and what issues might arise when multiple threads access the same HashMap instance concurrently. Suggest an alternative class that can be used for concurrent access and explain its benefits.\n",
    "\n",
    "**HashMap is not thread-safe** because it's not synchronized. When multiple threads access the same HashMap concurrently, issues like data corruption or inconsistency might arise due to simultaneous modifications to the HashMap. \n",
    "\n",
    "An alternative class for concurrent access is `ConcurrentHashMap`. It provides thread safety without a significant performance overhead. `ConcurrentHashMap` achieves this by dividing the map into segments, allowing multiple threads to operate on different segments concurrently without blocking each other. This improves performance in scenarios where multiple threads need to access the map simultaneously.\n"
   ]
  },
  {
   "cell_type": "markdown",
   "metadata": {},
   "source": [
    "# HACKS (Shaurya)\n",
    "\n",
    "1) Finish Popcorn HACKS\n",
    "2) Develop a Java application that utilizes a HashMap to manage a sports team roster. Each player on the team should have attributes like name, position, and jersey number. The program should enable functionalities such as adding new players, updating player information, and searching for players based on their jersey numbers using the HashMap implementation.\n",
    "3) Reflection "
   ]
  },
  {
   "cell_type": "code",
   "execution_count": 6,
   "metadata": {
    "vscode": {
     "languageId": "java"
    }
   },
   "outputs": [],
   "source": [
    "import java.util.HashMap;\n",
    "import java.util.Map;\n",
    "import java.util.Scanner;\n",
    "\n",
    "class Player {\n",
    "    private String name;\n",
    "    private String position;\n",
    "\n",
    "    public Player(String name, String position) {\n",
    "        this.name = name;\n",
    "        this.position = position;\n",
    "    }\n",
    "\n",
    "    public String getName() {\n",
    "        return name;\n",
    "    }\n",
    "\n",
    "    public String getPosition() {\n",
    "        return position;\n",
    "    }\n",
    "\n",
    "    @Override\n",
    "    public String toString() {\n",
    "        return \"Name: \" + name + \", Position: \" + position;\n",
    "    }\n",
    "}\n",
    "\n",
    "public class TeamRoster {\n",
    "    public static void main(String[] args) {\n",
    "        Scanner scanner = new Scanner(System.in);\n",
    "        Map<Integer, Player> roster = new HashMap<>();\n",
    "\n",
    "        boolean running = true;\n",
    "        while (running) {\n",
    "            System.out.println(\"\\n1. Add a new player\");\n",
    "            System.out.println(\"2. Update player information\");\n",
    "            System.out.println(\"3. Search player by jersey number\");\n",
    "            System.out.println(\"4. Exit\");\n",
    "            System.out.print(\"Enter your choice: \");\n",
    "            int choice = scanner.nextInt();\n",
    "            scanner.nextLine(); // Consume the newline character\n",
    "\n",
    "            switch (choice) {\n",
    "                case 1:\n",
    "                    System.out.print(\"Enter player's name: \");\n",
    "                    String playerName = scanner.nextLine();\n",
    "                    System.out.print(\"Enter player's position: \");\n",
    "                    String playerPosition = scanner.nextLine();\n",
    "                    System.out.print(\"Enter player's jersey number: \");\n",
    "                    int jerseyNumber = scanner.nextInt();\n",
    "\n",
    "                    Player newPlayer = new Player(playerName, playerPosition);\n",
    "                    roster.put(jerseyNumber, newPlayer);\n",
    "                    System.out.println(\"Player added successfully.\");\n",
    "                    break;\n",
    "\n",
    "                case 2:\n",
    "                    System.out.print(\"Enter jersey number to update player information: \");\n",
    "                    int updateNumber = scanner.nextInt();\n",
    "                    if (roster.containsKey(updateNumber)) {\n",
    "                        System.out.print(\"Enter new name: \");\n",
    "                        String newName = scanner.next();\n",
    "                        System.out.print(\"Enter new position: \");\n",
    "                        String newPosition = scanner.next();\n",
    "\n",
    "                        Player updatedPlayer = new Player(newName, newPosition);\n",
    "                        roster.put(updateNumber, updatedPlayer);\n",
    "                        System.out.println(\"Player information updated successfully.\");\n",
    "                    } else {\n",
    "                        System.out.println(\"Player with jersey number \" + updateNumber + \" does not exist.\");\n",
    "                    }\n",
    "                    break;\n",
    "\n",
    "                case 3:\n",
    "                    System.out.print(\"Enter jersey number to search for player: \");\n",
    "                    int searchNumber = scanner.nextInt();\n",
    "                    if (roster.containsKey(searchNumber)) {\n",
    "                        Player foundPlayer = roster.get(searchNumber);\n",
    "                        System.out.println(\"Player found: \" + foundPlayer);\n",
    "                    } else {\n",
    "                        System.out.println(\"Player with jersey number \" + searchNumber + \" not found.\");\n",
    "                    }\n",
    "                    break;\n",
    "\n",
    "                case 4:\n",
    "                    running = false;\n",
    "                    break;\n",
    "\n",
    "                default:\n",
    "                    System.out.println(\"Invalid choice. Please enter a valid option.\");\n",
    "                    break;\n",
    "            }\n",
    "        }\n",
    "\n",
    "        System.out.println(\"Exiting the program. Thank you!\");\n",
    "        scanner.close();\n",
    "    }\n",
    "}\n"
   ]
  },
  {
   "cell_type": "markdown",
   "metadata": {},
   "source": [
    "# Reflection \n",
    "- Something I learned from this is that I learned howto initialize key and valus within a hashmap. Before the lis lesson I was quite unsuere about hashmaps as it is a compllex topic that causes however i felt that i was able to complte this hacks mostly on my own wiht some help. initially i struggled with the for each loop as i have some confuion in that area as it is a topic i need to review."
   ]
  }
 ],
 "metadata": {
  "kernelspec": {
   "display_name": "Java",
   "language": "java",
   "name": "java"
  },
  "language_info": {
   "codemirror_mode": "java",
   "file_extension": ".jshell",
   "mimetype": "text/x-java-source",
   "name": "Java",
   "pygments_lexer": "java",
   "version": "20.0.1"
  }
 },
 "nbformat": 4,
 "nbformat_minor": 2
}
