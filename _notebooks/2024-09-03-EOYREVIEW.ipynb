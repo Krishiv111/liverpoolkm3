{
 "cells": [
  {
   "cell_type": "markdown",
   "metadata": {},
   "source": [
    "---\n",
    "toc: true\n",
    "comments: false\n",
    "layout: post\n",
    "title: End of the Year Review\n",
    "description: for job interview\n",
    "type: hacks\n",
    "courses: { csa: {week: 34} }\n",
    "---"
   ]
  },
  {
   "cell_type": "markdown",
   "metadata": {},
   "source": [
    "# Highlights from the Past two years major glows\n",
    "\n",
    "### Technical Ability\n",
    "- As always wanting to learn how to program and use the high end tools this course has enabled me to developed and learn diffrent skills htat I will be able to use for the rest of my life here are some of the ones that resonate wiht me most\n",
    "    - AWS: aws deployment was a really cool thing to learn as it opened my eyes on diffrent servers and usage of frameworks to get a working site from EC2 instances, to Route 53 , to nignx, to duckdns I have learned how to deploy in various ways\n",
    "    - Backend Techincals: Here there is a lot to mention from python flask to java spring and MY SQL to using pandas and numpys to jwt and thymeleaf with databases, POJO's, API controller, Itterator, Comparables, and sorting methods with abstract classes in the backend, there are a lot more that I have learned but these are the ones that alllow me to develop projects and become more understanding of how somehting actually works. \n",
    "    - Frontend: As I am more naturally intrested towards the backend sometimes I overlook the frontend but from working with JS and learning a intro to tailwind with STOCK-AI I have gotten to understand the framework \n",
    "    - SCRUM PROCESS: the scrum process has allowed me to work better collaborativley from building team manifestos and having to deal with various work ehtcsa and abilites it has strengthened my views on how to operate as a team project within a scrum master role or a backend role.\n",
    "\n",
    "    "
   ]
  },
  {
   "cell_type": "markdown",
   "metadata": {},
   "source": [
    "# Plans For Next Year To Continue Growing\n",
    "\n",
    "- To grow next year I want to improve my technical skills by keep programming in java as that is the langauge I have understood most and had most fun with the frameworks, however I also want to get back into python and learn machine learning and AI princples as what I want to take away from my internship this summer at UCSD and Palomar working with two unique professors where we will be focused on PBL like MR morts class to help and grow. Moreover I want to get better at Presenting becuase something that resonated with me in our review last week when presentation skills were lacking was when MR mort said **\"Having a bad presentation is like asking to not get credit for the work you've done\"(John Mort)**, which I learned when working with high achievers and a faced paced group its important I advocate for myself in the work I do and make sure the features that I work on get echoed across the presenation floor in order to showcase my skills and technicals as a developer. "
   ]
  },
  {
   "cell_type": "markdown",
   "metadata": {},
   "source": [
    "- [Photo1](https://github.com/Krishiv111/liverpoolkm3/blob/main/images/teamphoto.jpg)"
   ]
  },
  {
   "cell_type": "markdown",
   "metadata": {},
   "source": [
    "- [Phot2](https://github.com/Krishiv111/liverpoolkm3/blob/main/images/skate_mort.png)"
   ]
  },
  {
   "cell_type": "markdown",
   "metadata": {},
   "source": [
    "- [Phot3](https://github.com/Krishiv111/liverpoolkm3/blob/main/images/snow_mort.png)"
   ]
  }
 ],
 "metadata": {
  "language_info": {
   "name": "python"
  }
 },
 "nbformat": 4,
 "nbformat_minor": 2
}
